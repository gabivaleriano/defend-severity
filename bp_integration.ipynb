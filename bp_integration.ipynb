{
 "cells": [
  {
   "cell_type": "markdown",
   "metadata": {},
   "source": [
    "Hospital data integration for severity prognosis study in COVID-19\n",
    "\n",
    "Autors: Maria Gabriela Valeriano, Ana Carolina Lorena, Carlos Kiffer\n",
    "\n",
    "Source: Hospital Beneficência Portuguesa, made available by FAPESP through COVID-19 Data Sharing/BR-USP. The original data is available at https://repositoriodatasharingfapesp.uspdigital.usp.br/\n",
    "\n",
    "The original data is divided in three files: Pacients, Tests and Outcomes. Each patient has an id and each patient hospital visit receive an new id_attendance as identification. \n",
    "\n",
    "In the file tests, there are some cases when the same test have similar but divergent label. This cases were resolved with the help of an expert. The file 'bpsp_exames_01_labels.csv' have this issues corrected. The corrected file and the correspondent codes could be found at github.com/gabivaleriano/defend-prognosis. \n"
   ]
  },
  {
   "cell_type": "code",
   "execution_count": 1,
   "metadata": {
    "colab": {
     "base_uri": "https://localhost:8080/"
    },
    "id": "ypI1tuaA9tp2",
    "outputId": "d79dc50a-6a42-4654-c97c-50a2f9cac4ee"
   },
   "outputs": [
    {
     "name": "stderr",
     "output_type": "stream",
     "text": [
      "── \u001b[1mAttaching packages\u001b[22m ─────────────────────────────────────── tidyverse 1.3.0 ──\n",
      "\n",
      "\u001b[32m✔\u001b[39m \u001b[34mggplot2\u001b[39m 3.3.1     \u001b[32m✔\u001b[39m \u001b[34mpurrr  \u001b[39m 0.3.4\n",
      "\u001b[32m✔\u001b[39m \u001b[34mtibble \u001b[39m 3.0.1     \u001b[32m✔\u001b[39m \u001b[34mdplyr  \u001b[39m 1.0.0\n",
      "\u001b[32m✔\u001b[39m \u001b[34mtidyr  \u001b[39m 1.1.0     \u001b[32m✔\u001b[39m \u001b[34mstringr\u001b[39m 1.4.0\n",
      "\u001b[32m✔\u001b[39m \u001b[34mreadr  \u001b[39m 1.3.1     \u001b[32m✔\u001b[39m \u001b[34mforcats\u001b[39m 0.5.0\n",
      "\n",
      "── \u001b[1mConflicts\u001b[22m ────────────────────────────────────────── tidyverse_conflicts() ──\n",
      "\u001b[31m✖\u001b[39m \u001b[34mdplyr\u001b[39m::\u001b[32mfilter()\u001b[39m masks \u001b[34mstats\u001b[39m::filter()\n",
      "\u001b[31m✖\u001b[39m \u001b[34mdplyr\u001b[39m::\u001b[32mlag()\u001b[39m    masks \u001b[34mstats\u001b[39m::lag()\n",
      "\n"
     ]
    }
   ],
   "source": [
    "library(tidyverse)"
   ]
  },
  {
   "cell_type": "code",
   "execution_count": 2,
   "metadata": {
    "colab": {
     "base_uri": "https://localhost:8080/",
     "height": 52
    },
    "id": "C09MKIfIGo5z",
    "outputId": "6d7f475e-1f3a-49df-b61b-e254bf725fb8"
   },
   "outputs": [
    {
     "data": {
      "text/html": [
       "<style>\n",
       ".list-inline {list-style: none; margin:0; padding: 0}\n",
       ".list-inline>li {display: inline-block}\n",
       ".list-inline>li:not(:last-child)::after {content: \"\\00b7\"; padding: 0 .5ex}\n",
       "</style>\n",
       "<ol class=list-inline><li>39000</li><li>7</li></ol>\n"
      ],
      "text/latex": [
       "\\begin{enumerate*}\n",
       "\\item 39000\n",
       "\\item 7\n",
       "\\end{enumerate*}\n"
      ],
      "text/markdown": [
       "1. 39000\n",
       "2. 7\n",
       "\n",
       "\n"
      ],
      "text/plain": [
       "[1] 39000     7"
      ]
     },
     "metadata": {},
     "output_type": "display_data"
    },
    {
     "data": {
      "text/html": [
       "<style>\n",
       ".list-inline {list-style: none; margin:0; padding: 0}\n",
       ".list-inline>li {display: inline-block}\n",
       ".list-inline>li:not(:last-child)::after {content: \"\\00b7\"; padding: 0 .5ex}\n",
       "</style>\n",
       "<ol class=list-inline><li>39000</li><li>7</li></ol>\n"
      ],
      "text/latex": [
       "\\begin{enumerate*}\n",
       "\\item 39000\n",
       "\\item 7\n",
       "\\end{enumerate*}\n"
      ],
      "text/markdown": [
       "1. 39000\n",
       "2. 7\n",
       "\n",
       "\n"
      ],
      "text/plain": [
       "[1] 39000     7"
      ]
     },
     "metadata": {},
     "output_type": "display_data"
    }
   ],
   "source": [
    "#file: Pacientes\n",
    "\n",
    "#read the file\n",
    "patients <- read.csv(\"bpsp_pacientes_01.csv\", sep = \"|\", stringsAsFactors = FALSE)\n",
    "\n",
    "#dimensions\n",
    "patients %>% dim\n",
    "\n",
    "#check for repeated lines \n",
    "patients %>% unique %>% dim\n"
   ]
  },
  {
   "cell_type": "code",
   "execution_count": 3,
   "metadata": {
    "id": "A55_CAQyIj20"
   },
   "outputs": [
    {
     "data": {
      "text/html": [
       "39000"
      ],
      "text/latex": [
       "39000"
      ],
      "text/markdown": [
       "39000"
      ],
      "text/plain": [
       "[1] 39000"
      ]
     },
     "metadata": {},
     "output_type": "display_data"
    }
   ],
   "source": [
    "#rename columns\n",
    "names(patients) <- c('id', 'sex', 'birth_year', 'country', 'state', 'city', 'zip_code')\n",
    "\n",
    "#number of patients\n",
    "patients %>% select(id) %>% unique %>% nrow"
   ]
  },
  {
   "cell_type": "code",
   "execution_count": 4,
   "metadata": {
    "colab": {
     "base_uri": "https://localhost:8080/",
     "height": 52
    },
    "id": "8Y5QaiHn919p",
    "outputId": "7cf910df-a075-4f20-9ef6-8b4a187c6bd4"
   },
   "outputs": [
    {
     "data": {
      "text/html": [
       "<style>\n",
       ".list-inline {list-style: none; margin:0; padding: 0}\n",
       ".list-inline>li {display: inline-block}\n",
       ".list-inline>li:not(:last-child)::after {content: \"\\00b7\"; padding: 0 .5ex}\n",
       "</style>\n",
       "<ol class=list-inline><li>5339293</li><li>10</li></ol>\n"
      ],
      "text/latex": [
       "\\begin{enumerate*}\n",
       "\\item 5339293\n",
       "\\item 10\n",
       "\\end{enumerate*}\n"
      ],
      "text/markdown": [
       "1. 5339293\n",
       "2. 10\n",
       "\n",
       "\n"
      ],
      "text/plain": [
       "[1] 5339293      10"
      ]
     },
     "metadata": {},
     "output_type": "display_data"
    },
    {
     "data": {
      "text/html": [
       "<style>\n",
       ".list-inline {list-style: none; margin:0; padding: 0}\n",
       ".list-inline>li {display: inline-block}\n",
       ".list-inline>li:not(:last-child)::after {content: \"\\00b7\"; padding: 0 .5ex}\n",
       "</style>\n",
       "<ol class=list-inline><li>5229119</li><li>10</li></ol>\n"
      ],
      "text/latex": [
       "\\begin{enumerate*}\n",
       "\\item 5229119\n",
       "\\item 10\n",
       "\\end{enumerate*}\n"
      ],
      "text/markdown": [
       "1. 5229119\n",
       "2. 10\n",
       "\n",
       "\n"
      ],
      "text/plain": [
       "[1] 5229119      10"
      ]
     },
     "metadata": {},
     "output_type": "display_data"
    },
    {
     "data": {
      "text/html": [
       "<style>\n",
       ".list-inline {list-style: none; margin:0; padding: 0}\n",
       ".list-inline>li {display: inline-block}\n",
       ".list-inline>li:not(:last-child)::after {content: \"\\00b7\"; padding: 0 .5ex}\n",
       "</style>\n",
       "<ol class=list-inline><li>33800</li><li>1</li></ol>\n"
      ],
      "text/latex": [
       "\\begin{enumerate*}\n",
       "\\item 33800\n",
       "\\item 1\n",
       "\\end{enumerate*}\n"
      ],
      "text/markdown": [
       "1. 33800\n",
       "2. 1\n",
       "\n",
       "\n"
      ],
      "text/plain": [
       "[1] 33800     1"
      ]
     },
     "metadata": {},
     "output_type": "display_data"
    }
   ],
   "source": [
    "#file: Tests\n",
    "\n",
    "#read file\n",
    "tests <- read.csv(\"bpsp_exames_01_labels.csv\", stringsAsFactors = FALSE)\n",
    "\n",
    "#dimensions\n",
    "tests %>% dim\n",
    "\n",
    "#check for repeated lines \n",
    "tests %>% unique %>% dim\n",
    "\n",
    "#remove repeated lines \n",
    "tests %>% unique -> tests\n",
    "\n",
    "#number of patients \n",
    "tests %>% select(id) %>% unique %>% dim\n",
    "\n"
   ]
  },
  {
   "cell_type": "code",
   "execution_count": 5,
   "metadata": {
    "id": "GmwyC__BANLs"
   },
   "outputs": [],
   "source": [
    "#convert commas -> dots\n",
    "tests <- data.frame(lapply(tests, function(x) {gsub(\",\", \".\", x)}))\n"
   ]
  },
  {
   "cell_type": "code",
   "execution_count": 6,
   "metadata": {},
   "outputs": [
    {
     "data": {
      "text/html": [
       "<style>\n",
       ".list-inline {list-style: none; margin:0; padding: 0}\n",
       ".list-inline>li {display: inline-block}\n",
       ".list-inline>li:not(:last-child)::after {content: \"\\00b7\"; padding: 0 .5ex}\n",
       "</style>\n",
       "<ol class=list-inline><li>76506</li><li>1</li></ol>\n"
      ],
      "text/latex": [
       "\\begin{enumerate*}\n",
       "\\item 76506\n",
       "\\item 1\n",
       "\\end{enumerate*}\n"
      ],
      "text/markdown": [
       "1. 76506\n",
       "2. 1\n",
       "\n",
       "\n"
      ],
      "text/plain": [
       "[1] 76506     1"
      ]
     },
     "metadata": {},
     "output_type": "display_data"
    }
   ],
   "source": [
    "#rename columns\n",
    "names(tests) <- c('id', 'id_attendance', 'test_date', 'place', 'result', 'measurement_unit', 'normal_value', 'test', 'analyte', 'test_analyte')\n",
    "\n",
    "#number of id_attendance \n",
    "tests %>% select(id_attendance) %>% unique %>% dim"
   ]
  },
  {
   "cell_type": "code",
   "execution_count": 7,
   "metadata": {
    "colab": {
     "base_uri": "https://localhost:8080/",
     "height": 52
    },
    "id": "IM4SIgUVCiQj",
    "outputId": "48d975f9-1de0-4849-a1a6-f556c566a7ca"
   },
   "outputs": [
    {
     "data": {
      "text/html": [
       "<style>\n",
       ".list-inline {list-style: none; margin:0; padding: 0}\n",
       ".list-inline>li {display: inline-block}\n",
       ".list-inline>li:not(:last-child)::after {content: \"\\00b7\"; padding: 0 .5ex}\n",
       "</style>\n",
       "<ol class=list-inline><li>217991</li><li>8</li></ol>\n"
      ],
      "text/latex": [
       "\\begin{enumerate*}\n",
       "\\item 217991\n",
       "\\item 8\n",
       "\\end{enumerate*}\n"
      ],
      "text/markdown": [
       "1. 217991\n",
       "2. 8\n",
       "\n",
       "\n"
      ],
      "text/plain": [
       "[1] 217991      8"
      ]
     },
     "metadata": {},
     "output_type": "display_data"
    },
    {
     "data": {
      "text/html": [
       "<style>\n",
       ".list-inline {list-style: none; margin:0; padding: 0}\n",
       ".list-inline>li {display: inline-block}\n",
       ".list-inline>li:not(:last-child)::after {content: \"\\00b7\"; padding: 0 .5ex}\n",
       "</style>\n",
       "<ol class=list-inline><li>217991</li><li>8</li></ol>\n"
      ],
      "text/latex": [
       "\\begin{enumerate*}\n",
       "\\item 217991\n",
       "\\item 8\n",
       "\\end{enumerate*}\n"
      ],
      "text/markdown": [
       "1. 217991\n",
       "2. 8\n",
       "\n",
       "\n"
      ],
      "text/plain": [
       "[1] 217991      8"
      ]
     },
     "metadata": {},
     "output_type": "display_data"
    }
   ],
   "source": [
    "#file: Outcomes\n",
    "\n",
    "#read the file\n",
    "outcomes <- read.csv(\"bpsp_desfecho_01.csv\", sep = \"|\", stringsAsFactors = FALSE) \n",
    "\n",
    "#dimensions\n",
    "outcomes %>% dim\n",
    "\n",
    "#check for repeated lines \n",
    "outcomes %>% unique %>% dim"
   ]
  },
  {
   "cell_type": "code",
   "execution_count": 8,
   "metadata": {
    "id": "BqtkasuNJJGm"
   },
   "outputs": [
    {
     "data": {
      "text/html": [
       "<style>\n",
       ".list-inline {list-style: none; margin:0; padding: 0}\n",
       ".list-inline>li {display: inline-block}\n",
       ".list-inline>li:not(:last-child)::after {content: \"\\00b7\"; padding: 0 .5ex}\n",
       "</style>\n",
       "<ol class=list-inline><li>39001</li><li>1</li></ol>\n"
      ],
      "text/latex": [
       "\\begin{enumerate*}\n",
       "\\item 39001\n",
       "\\item 1\n",
       "\\end{enumerate*}\n"
      ],
      "text/markdown": [
       "1. 39001\n",
       "2. 1\n",
       "\n",
       "\n"
      ],
      "text/plain": [
       "[1] 39001     1"
      ]
     },
     "metadata": {},
     "output_type": "display_data"
    },
    {
     "data": {
      "text/html": [
       "<style>\n",
       ".list-inline {list-style: none; margin:0; padding: 0}\n",
       ".list-inline>li {display: inline-block}\n",
       ".list-inline>li:not(:last-child)::after {content: \"\\00b7\"; padding: 0 .5ex}\n",
       "</style>\n",
       "<ol class=list-inline><li>217991</li><li>1</li></ol>\n"
      ],
      "text/latex": [
       "\\begin{enumerate*}\n",
       "\\item 217991\n",
       "\\item 1\n",
       "\\end{enumerate*}\n"
      ],
      "text/markdown": [
       "1. 217991\n",
       "2. 1\n",
       "\n",
       "\n"
      ],
      "text/plain": [
       "[1] 217991      1"
      ]
     },
     "metadata": {},
     "output_type": "display_data"
    }
   ],
   "source": [
    "#rename columns 'clinic', 'result', 'measurement_unit', 'normal_value', 'test', 'analyte', 'test_analyte'\n",
    "names(outcomes) <- c('id', 'id_attendance', 'attendance_date', 'attendance_type', 'id_clinic', 'clinic', 'outcome_date','outcome_patient')\n",
    "\n",
    "#number of patients and attendances\n",
    "outcomes %>% select(id) %>% unique %>% dim\n",
    "outcomes %>% select(id_attendance) %>% unique %>% dim"
   ]
  },
  {
   "cell_type": "code",
   "execution_count": 9,
   "metadata": {},
   "outputs": [
    {
     "data": {
      "text/html": [
       "<table>\n",
       "<caption>A data.frame: 1 × 2</caption>\n",
       "<thead>\n",
       "\t<tr><th scope=col>outcome_date</th><th scope=col>n</th></tr>\n",
       "\t<tr><th scope=col>&lt;chr&gt;</th><th scope=col>&lt;int&gt;</th></tr>\n",
       "</thead>\n",
       "<tbody>\n",
       "\t<tr><td>DDMMAA</td><td>834</td></tr>\n",
       "</tbody>\n",
       "</table>\n"
      ],
      "text/latex": [
       "A data.frame: 1 × 2\n",
       "\\begin{tabular}{ll}\n",
       " outcome\\_date & n\\\\\n",
       " <chr> & <int>\\\\\n",
       "\\hline\n",
       "\t DDMMAA & 834\\\\\n",
       "\\end{tabular}\n"
      ],
      "text/markdown": [
       "\n",
       "A data.frame: 1 × 2\n",
       "\n",
       "| outcome_date &lt;chr&gt; | n &lt;int&gt; |\n",
       "|---|---|\n",
       "| DDMMAA | 834 |\n",
       "\n"
      ],
      "text/plain": [
       "  outcome_date n  \n",
       "1 DDMMAA       834"
      ]
     },
     "metadata": {},
     "output_type": "display_data"
    }
   ],
   "source": [
    "#when outcome_patient == death, it does not have outcome_date \n",
    "#this issue is due to the criteria adopted for anonymization by the institution that provided the data\n",
    "\n",
    "outcomes %>% \n",
    "filter(str_detect(outcome_patient, 'Obito')) %>%  \n",
    "count(outcome_date)\n"
   ]
  },
  {
   "cell_type": "code",
   "execution_count": 10,
   "metadata": {},
   "outputs": [
    {
     "data": {
      "text/html": [
       "<table>\n",
       "<caption>A data.frame: 92 × 2</caption>\n",
       "<thead>\n",
       "\t<tr><th scope=col>birth_year</th><th scope=col>n</th></tr>\n",
       "\t<tr><th scope=col>&lt;chr&gt;</th><th scope=col>&lt;int&gt;</th></tr>\n",
       "</thead>\n",
       "<tbody>\n",
       "\t<tr><td>1931</td><td> 17</td></tr>\n",
       "\t<tr><td>1932</td><td> 30</td></tr>\n",
       "\t<tr><td>1933</td><td> 27</td></tr>\n",
       "\t<tr><td>1934</td><td> 42</td></tr>\n",
       "\t<tr><td>1935</td><td> 42</td></tr>\n",
       "\t<tr><td>1936</td><td> 40</td></tr>\n",
       "\t<tr><td>1937</td><td> 46</td></tr>\n",
       "\t<tr><td>1938</td><td> 37</td></tr>\n",
       "\t<tr><td>1939</td><td> 42</td></tr>\n",
       "\t<tr><td>1940</td><td> 56</td></tr>\n",
       "\t<tr><td>1941</td><td> 50</td></tr>\n",
       "\t<tr><td>1942</td><td> 55</td></tr>\n",
       "\t<tr><td>1943</td><td> 57</td></tr>\n",
       "\t<tr><td>1944</td><td> 60</td></tr>\n",
       "\t<tr><td>1945</td><td> 67</td></tr>\n",
       "\t<tr><td>1946</td><td> 81</td></tr>\n",
       "\t<tr><td>1947</td><td> 80</td></tr>\n",
       "\t<tr><td>1948</td><td> 81</td></tr>\n",
       "\t<tr><td>1949</td><td> 90</td></tr>\n",
       "\t<tr><td>1950</td><td>118</td></tr>\n",
       "\t<tr><td>1951</td><td>104</td></tr>\n",
       "\t<tr><td>1952</td><td>124</td></tr>\n",
       "\t<tr><td>1953</td><td>132</td></tr>\n",
       "\t<tr><td>1954</td><td>121</td></tr>\n",
       "\t<tr><td>1955</td><td>161</td></tr>\n",
       "\t<tr><td>1956</td><td>128</td></tr>\n",
       "\t<tr><td>1957</td><td>146</td></tr>\n",
       "\t<tr><td>1958</td><td>125</td></tr>\n",
       "\t<tr><td>1959</td><td>104</td></tr>\n",
       "\t<tr><td>1960</td><td>132</td></tr>\n",
       "\t<tr><td>⋮</td><td>⋮</td></tr>\n",
       "\t<tr><td>1993</td><td>  221</td></tr>\n",
       "\t<tr><td>1994</td><td>  230</td></tr>\n",
       "\t<tr><td>1995</td><td>  181</td></tr>\n",
       "\t<tr><td>1996</td><td>  149</td></tr>\n",
       "\t<tr><td>1997</td><td>  157</td></tr>\n",
       "\t<tr><td>1998</td><td>  106</td></tr>\n",
       "\t<tr><td>1999</td><td>  127</td></tr>\n",
       "\t<tr><td>2000</td><td>   84</td></tr>\n",
       "\t<tr><td>2001</td><td>   71</td></tr>\n",
       "\t<tr><td>2002</td><td>   56</td></tr>\n",
       "\t<tr><td>2003</td><td>   46</td></tr>\n",
       "\t<tr><td>2004</td><td>   53</td></tr>\n",
       "\t<tr><td>2005</td><td>   25</td></tr>\n",
       "\t<tr><td>2006</td><td>   21</td></tr>\n",
       "\t<tr><td>2007</td><td>   27</td></tr>\n",
       "\t<tr><td>2008</td><td>   23</td></tr>\n",
       "\t<tr><td>2009</td><td>   23</td></tr>\n",
       "\t<tr><td>2010</td><td>   36</td></tr>\n",
       "\t<tr><td>2011</td><td>   16</td></tr>\n",
       "\t<tr><td>2012</td><td>   23</td></tr>\n",
       "\t<tr><td>2013</td><td>   23</td></tr>\n",
       "\t<tr><td>2014</td><td>   29</td></tr>\n",
       "\t<tr><td>2015</td><td>   23</td></tr>\n",
       "\t<tr><td>2016</td><td>   38</td></tr>\n",
       "\t<tr><td>2017</td><td>   29</td></tr>\n",
       "\t<tr><td>2018</td><td>   45</td></tr>\n",
       "\t<tr><td>2019</td><td>   56</td></tr>\n",
       "\t<tr><td>2020</td><td>   73</td></tr>\n",
       "\t<tr><td>AAAA</td><td>  107</td></tr>\n",
       "\t<tr><td>YYYY</td><td>28243</td></tr>\n",
       "</tbody>\n",
       "</table>\n"
      ],
      "text/latex": [
       "A data.frame: 92 × 2\n",
       "\\begin{tabular}{ll}\n",
       " birth\\_year & n\\\\\n",
       " <chr> & <int>\\\\\n",
       "\\hline\n",
       "\t 1931 &  17\\\\\n",
       "\t 1932 &  30\\\\\n",
       "\t 1933 &  27\\\\\n",
       "\t 1934 &  42\\\\\n",
       "\t 1935 &  42\\\\\n",
       "\t 1936 &  40\\\\\n",
       "\t 1937 &  46\\\\\n",
       "\t 1938 &  37\\\\\n",
       "\t 1939 &  42\\\\\n",
       "\t 1940 &  56\\\\\n",
       "\t 1941 &  50\\\\\n",
       "\t 1942 &  55\\\\\n",
       "\t 1943 &  57\\\\\n",
       "\t 1944 &  60\\\\\n",
       "\t 1945 &  67\\\\\n",
       "\t 1946 &  81\\\\\n",
       "\t 1947 &  80\\\\\n",
       "\t 1948 &  81\\\\\n",
       "\t 1949 &  90\\\\\n",
       "\t 1950 & 118\\\\\n",
       "\t 1951 & 104\\\\\n",
       "\t 1952 & 124\\\\\n",
       "\t 1953 & 132\\\\\n",
       "\t 1954 & 121\\\\\n",
       "\t 1955 & 161\\\\\n",
       "\t 1956 & 128\\\\\n",
       "\t 1957 & 146\\\\\n",
       "\t 1958 & 125\\\\\n",
       "\t 1959 & 104\\\\\n",
       "\t 1960 & 132\\\\\n",
       "\t ⋮ & ⋮\\\\\n",
       "\t 1993 &   221\\\\\n",
       "\t 1994 &   230\\\\\n",
       "\t 1995 &   181\\\\\n",
       "\t 1996 &   149\\\\\n",
       "\t 1997 &   157\\\\\n",
       "\t 1998 &   106\\\\\n",
       "\t 1999 &   127\\\\\n",
       "\t 2000 &    84\\\\\n",
       "\t 2001 &    71\\\\\n",
       "\t 2002 &    56\\\\\n",
       "\t 2003 &    46\\\\\n",
       "\t 2004 &    53\\\\\n",
       "\t 2005 &    25\\\\\n",
       "\t 2006 &    21\\\\\n",
       "\t 2007 &    27\\\\\n",
       "\t 2008 &    23\\\\\n",
       "\t 2009 &    23\\\\\n",
       "\t 2010 &    36\\\\\n",
       "\t 2011 &    16\\\\\n",
       "\t 2012 &    23\\\\\n",
       "\t 2013 &    23\\\\\n",
       "\t 2014 &    29\\\\\n",
       "\t 2015 &    23\\\\\n",
       "\t 2016 &    38\\\\\n",
       "\t 2017 &    29\\\\\n",
       "\t 2018 &    45\\\\\n",
       "\t 2019 &    56\\\\\n",
       "\t 2020 &    73\\\\\n",
       "\t AAAA &   107\\\\\n",
       "\t YYYY & 28243\\\\\n",
       "\\end{tabular}\n"
      ],
      "text/markdown": [
       "\n",
       "A data.frame: 92 × 2\n",
       "\n",
       "| birth_year &lt;chr&gt; | n &lt;int&gt; |\n",
       "|---|---|\n",
       "| 1931 |  17 |\n",
       "| 1932 |  30 |\n",
       "| 1933 |  27 |\n",
       "| 1934 |  42 |\n",
       "| 1935 |  42 |\n",
       "| 1936 |  40 |\n",
       "| 1937 |  46 |\n",
       "| 1938 |  37 |\n",
       "| 1939 |  42 |\n",
       "| 1940 |  56 |\n",
       "| 1941 |  50 |\n",
       "| 1942 |  55 |\n",
       "| 1943 |  57 |\n",
       "| 1944 |  60 |\n",
       "| 1945 |  67 |\n",
       "| 1946 |  81 |\n",
       "| 1947 |  80 |\n",
       "| 1948 |  81 |\n",
       "| 1949 |  90 |\n",
       "| 1950 | 118 |\n",
       "| 1951 | 104 |\n",
       "| 1952 | 124 |\n",
       "| 1953 | 132 |\n",
       "| 1954 | 121 |\n",
       "| 1955 | 161 |\n",
       "| 1956 | 128 |\n",
       "| 1957 | 146 |\n",
       "| 1958 | 125 |\n",
       "| 1959 | 104 |\n",
       "| 1960 | 132 |\n",
       "| ⋮ | ⋮ |\n",
       "| 1993 |   221 |\n",
       "| 1994 |   230 |\n",
       "| 1995 |   181 |\n",
       "| 1996 |   149 |\n",
       "| 1997 |   157 |\n",
       "| 1998 |   106 |\n",
       "| 1999 |   127 |\n",
       "| 2000 |    84 |\n",
       "| 2001 |    71 |\n",
       "| 2002 |    56 |\n",
       "| 2003 |    46 |\n",
       "| 2004 |    53 |\n",
       "| 2005 |    25 |\n",
       "| 2006 |    21 |\n",
       "| 2007 |    27 |\n",
       "| 2008 |    23 |\n",
       "| 2009 |    23 |\n",
       "| 2010 |    36 |\n",
       "| 2011 |    16 |\n",
       "| 2012 |    23 |\n",
       "| 2013 |    23 |\n",
       "| 2014 |    29 |\n",
       "| 2015 |    23 |\n",
       "| 2016 |    38 |\n",
       "| 2017 |    29 |\n",
       "| 2018 |    45 |\n",
       "| 2019 |    56 |\n",
       "| 2020 |    73 |\n",
       "| AAAA |   107 |\n",
       "| YYYY | 28243 |\n",
       "\n"
      ],
      "text/plain": [
       "   birth_year n    \n",
       "1  1931        17  \n",
       "2  1932        30  \n",
       "3  1933        27  \n",
       "4  1934        42  \n",
       "5  1935        42  \n",
       "6  1936        40  \n",
       "7  1937        46  \n",
       "8  1938        37  \n",
       "9  1939        42  \n",
       "10 1940        56  \n",
       "11 1941        50  \n",
       "12 1942        55  \n",
       "13 1943        57  \n",
       "14 1944        60  \n",
       "15 1945        67  \n",
       "16 1946        81  \n",
       "17 1947        80  \n",
       "18 1948        81  \n",
       "19 1949        90  \n",
       "20 1950       118  \n",
       "21 1951       104  \n",
       "22 1952       124  \n",
       "23 1953       132  \n",
       "24 1954       121  \n",
       "25 1955       161  \n",
       "26 1956       128  \n",
       "27 1957       146  \n",
       "28 1958       125  \n",
       "29 1959       104  \n",
       "30 1960       132  \n",
       "⋮  ⋮          ⋮    \n",
       "63 1993         221\n",
       "64 1994         230\n",
       "65 1995         181\n",
       "66 1996         149\n",
       "67 1997         157\n",
       "68 1998         106\n",
       "69 1999         127\n",
       "70 2000          84\n",
       "71 2001          71\n",
       "72 2002          56\n",
       "73 2003          46\n",
       "74 2004          53\n",
       "75 2005          25\n",
       "76 2006          21\n",
       "77 2007          27\n",
       "78 2008          23\n",
       "79 2009          23\n",
       "80 2010          36\n",
       "81 2011          16\n",
       "82 2012          23\n",
       "83 2013          23\n",
       "84 2014          29\n",
       "85 2015          23\n",
       "86 2016          38\n",
       "87 2017          29\n",
       "88 2018          45\n",
       "89 2019          56\n",
       "90 2020          73\n",
       "91 AAAA         107\n",
       "92 YYYY       28243"
      ]
     },
     "metadata": {},
     "output_type": "display_data"
    },
    {
     "data": {
      "text/html": [
       "<table>\n",
       "<caption>A data.frame: 92 × 2</caption>\n",
       "<thead>\n",
       "\t<tr><th scope=col>birth_year</th><th scope=col>n</th></tr>\n",
       "\t<tr><th scope=col>&lt;chr&gt;</th><th scope=col>&lt;int&gt;</th></tr>\n",
       "</thead>\n",
       "<tbody>\n",
       "\t<tr><td>1930</td><td>107</td></tr>\n",
       "\t<tr><td>1931</td><td> 17</td></tr>\n",
       "\t<tr><td>1932</td><td> 30</td></tr>\n",
       "\t<tr><td>1933</td><td> 27</td></tr>\n",
       "\t<tr><td>1934</td><td> 42</td></tr>\n",
       "\t<tr><td>1935</td><td> 42</td></tr>\n",
       "\t<tr><td>1936</td><td> 40</td></tr>\n",
       "\t<tr><td>1937</td><td> 46</td></tr>\n",
       "\t<tr><td>1938</td><td> 37</td></tr>\n",
       "\t<tr><td>1939</td><td> 42</td></tr>\n",
       "\t<tr><td>1940</td><td> 56</td></tr>\n",
       "\t<tr><td>1941</td><td> 50</td></tr>\n",
       "\t<tr><td>1942</td><td> 55</td></tr>\n",
       "\t<tr><td>1943</td><td> 57</td></tr>\n",
       "\t<tr><td>1944</td><td> 60</td></tr>\n",
       "\t<tr><td>1945</td><td> 67</td></tr>\n",
       "\t<tr><td>1946</td><td> 81</td></tr>\n",
       "\t<tr><td>1947</td><td> 80</td></tr>\n",
       "\t<tr><td>1948</td><td> 81</td></tr>\n",
       "\t<tr><td>1949</td><td> 90</td></tr>\n",
       "\t<tr><td>1950</td><td>118</td></tr>\n",
       "\t<tr><td>1951</td><td>104</td></tr>\n",
       "\t<tr><td>1952</td><td>124</td></tr>\n",
       "\t<tr><td>1953</td><td>132</td></tr>\n",
       "\t<tr><td>1954</td><td>121</td></tr>\n",
       "\t<tr><td>1955</td><td>161</td></tr>\n",
       "\t<tr><td>1956</td><td>128</td></tr>\n",
       "\t<tr><td>1957</td><td>146</td></tr>\n",
       "\t<tr><td>1958</td><td>125</td></tr>\n",
       "\t<tr><td>1959</td><td>104</td></tr>\n",
       "\t<tr><td>⋮</td><td>⋮</td></tr>\n",
       "\t<tr><td>1992</td><td>  209</td></tr>\n",
       "\t<tr><td>1993</td><td>  221</td></tr>\n",
       "\t<tr><td>1994</td><td>  230</td></tr>\n",
       "\t<tr><td>1995</td><td>  181</td></tr>\n",
       "\t<tr><td>1996</td><td>  149</td></tr>\n",
       "\t<tr><td>1997</td><td>  157</td></tr>\n",
       "\t<tr><td>1998</td><td>  106</td></tr>\n",
       "\t<tr><td>1999</td><td>  127</td></tr>\n",
       "\t<tr><td>2000</td><td>   84</td></tr>\n",
       "\t<tr><td>2001</td><td>   71</td></tr>\n",
       "\t<tr><td>2002</td><td>   56</td></tr>\n",
       "\t<tr><td>2003</td><td>   46</td></tr>\n",
       "\t<tr><td>2004</td><td>   53</td></tr>\n",
       "\t<tr><td>2005</td><td>   25</td></tr>\n",
       "\t<tr><td>2006</td><td>   21</td></tr>\n",
       "\t<tr><td>2007</td><td>   27</td></tr>\n",
       "\t<tr><td>2008</td><td>   23</td></tr>\n",
       "\t<tr><td>2009</td><td>   23</td></tr>\n",
       "\t<tr><td>2010</td><td>   36</td></tr>\n",
       "\t<tr><td>2011</td><td>   16</td></tr>\n",
       "\t<tr><td>2012</td><td>   23</td></tr>\n",
       "\t<tr><td>2013</td><td>   23</td></tr>\n",
       "\t<tr><td>2014</td><td>   29</td></tr>\n",
       "\t<tr><td>2015</td><td>   23</td></tr>\n",
       "\t<tr><td>2016</td><td>   38</td></tr>\n",
       "\t<tr><td>2017</td><td>   29</td></tr>\n",
       "\t<tr><td>2018</td><td>   45</td></tr>\n",
       "\t<tr><td>2019</td><td>   56</td></tr>\n",
       "\t<tr><td>2020</td><td>   73</td></tr>\n",
       "\t<tr><td>YYYY</td><td>28243</td></tr>\n",
       "</tbody>\n",
       "</table>\n"
      ],
      "text/latex": [
       "A data.frame: 92 × 2\n",
       "\\begin{tabular}{ll}\n",
       " birth\\_year & n\\\\\n",
       " <chr> & <int>\\\\\n",
       "\\hline\n",
       "\t 1930 & 107\\\\\n",
       "\t 1931 &  17\\\\\n",
       "\t 1932 &  30\\\\\n",
       "\t 1933 &  27\\\\\n",
       "\t 1934 &  42\\\\\n",
       "\t 1935 &  42\\\\\n",
       "\t 1936 &  40\\\\\n",
       "\t 1937 &  46\\\\\n",
       "\t 1938 &  37\\\\\n",
       "\t 1939 &  42\\\\\n",
       "\t 1940 &  56\\\\\n",
       "\t 1941 &  50\\\\\n",
       "\t 1942 &  55\\\\\n",
       "\t 1943 &  57\\\\\n",
       "\t 1944 &  60\\\\\n",
       "\t 1945 &  67\\\\\n",
       "\t 1946 &  81\\\\\n",
       "\t 1947 &  80\\\\\n",
       "\t 1948 &  81\\\\\n",
       "\t 1949 &  90\\\\\n",
       "\t 1950 & 118\\\\\n",
       "\t 1951 & 104\\\\\n",
       "\t 1952 & 124\\\\\n",
       "\t 1953 & 132\\\\\n",
       "\t 1954 & 121\\\\\n",
       "\t 1955 & 161\\\\\n",
       "\t 1956 & 128\\\\\n",
       "\t 1957 & 146\\\\\n",
       "\t 1958 & 125\\\\\n",
       "\t 1959 & 104\\\\\n",
       "\t ⋮ & ⋮\\\\\n",
       "\t 1992 &   209\\\\\n",
       "\t 1993 &   221\\\\\n",
       "\t 1994 &   230\\\\\n",
       "\t 1995 &   181\\\\\n",
       "\t 1996 &   149\\\\\n",
       "\t 1997 &   157\\\\\n",
       "\t 1998 &   106\\\\\n",
       "\t 1999 &   127\\\\\n",
       "\t 2000 &    84\\\\\n",
       "\t 2001 &    71\\\\\n",
       "\t 2002 &    56\\\\\n",
       "\t 2003 &    46\\\\\n",
       "\t 2004 &    53\\\\\n",
       "\t 2005 &    25\\\\\n",
       "\t 2006 &    21\\\\\n",
       "\t 2007 &    27\\\\\n",
       "\t 2008 &    23\\\\\n",
       "\t 2009 &    23\\\\\n",
       "\t 2010 &    36\\\\\n",
       "\t 2011 &    16\\\\\n",
       "\t 2012 &    23\\\\\n",
       "\t 2013 &    23\\\\\n",
       "\t 2014 &    29\\\\\n",
       "\t 2015 &    23\\\\\n",
       "\t 2016 &    38\\\\\n",
       "\t 2017 &    29\\\\\n",
       "\t 2018 &    45\\\\\n",
       "\t 2019 &    56\\\\\n",
       "\t 2020 &    73\\\\\n",
       "\t YYYY & 28243\\\\\n",
       "\\end{tabular}\n"
      ],
      "text/markdown": [
       "\n",
       "A data.frame: 92 × 2\n",
       "\n",
       "| birth_year &lt;chr&gt; | n &lt;int&gt; |\n",
       "|---|---|\n",
       "| 1930 | 107 |\n",
       "| 1931 |  17 |\n",
       "| 1932 |  30 |\n",
       "| 1933 |  27 |\n",
       "| 1934 |  42 |\n",
       "| 1935 |  42 |\n",
       "| 1936 |  40 |\n",
       "| 1937 |  46 |\n",
       "| 1938 |  37 |\n",
       "| 1939 |  42 |\n",
       "| 1940 |  56 |\n",
       "| 1941 |  50 |\n",
       "| 1942 |  55 |\n",
       "| 1943 |  57 |\n",
       "| 1944 |  60 |\n",
       "| 1945 |  67 |\n",
       "| 1946 |  81 |\n",
       "| 1947 |  80 |\n",
       "| 1948 |  81 |\n",
       "| 1949 |  90 |\n",
       "| 1950 | 118 |\n",
       "| 1951 | 104 |\n",
       "| 1952 | 124 |\n",
       "| 1953 | 132 |\n",
       "| 1954 | 121 |\n",
       "| 1955 | 161 |\n",
       "| 1956 | 128 |\n",
       "| 1957 | 146 |\n",
       "| 1958 | 125 |\n",
       "| 1959 | 104 |\n",
       "| ⋮ | ⋮ |\n",
       "| 1992 |   209 |\n",
       "| 1993 |   221 |\n",
       "| 1994 |   230 |\n",
       "| 1995 |   181 |\n",
       "| 1996 |   149 |\n",
       "| 1997 |   157 |\n",
       "| 1998 |   106 |\n",
       "| 1999 |   127 |\n",
       "| 2000 |    84 |\n",
       "| 2001 |    71 |\n",
       "| 2002 |    56 |\n",
       "| 2003 |    46 |\n",
       "| 2004 |    53 |\n",
       "| 2005 |    25 |\n",
       "| 2006 |    21 |\n",
       "| 2007 |    27 |\n",
       "| 2008 |    23 |\n",
       "| 2009 |    23 |\n",
       "| 2010 |    36 |\n",
       "| 2011 |    16 |\n",
       "| 2012 |    23 |\n",
       "| 2013 |    23 |\n",
       "| 2014 |    29 |\n",
       "| 2015 |    23 |\n",
       "| 2016 |    38 |\n",
       "| 2017 |    29 |\n",
       "| 2018 |    45 |\n",
       "| 2019 |    56 |\n",
       "| 2020 |    73 |\n",
       "| YYYY | 28243 |\n",
       "\n"
      ],
      "text/plain": [
       "   birth_year n    \n",
       "1  1930       107  \n",
       "2  1931        17  \n",
       "3  1932        30  \n",
       "4  1933        27  \n",
       "5  1934        42  \n",
       "6  1935        42  \n",
       "7  1936        40  \n",
       "8  1937        46  \n",
       "9  1938        37  \n",
       "10 1939        42  \n",
       "11 1940        56  \n",
       "12 1941        50  \n",
       "13 1942        55  \n",
       "14 1943        57  \n",
       "15 1944        60  \n",
       "16 1945        67  \n",
       "17 1946        81  \n",
       "18 1947        80  \n",
       "19 1948        81  \n",
       "20 1949        90  \n",
       "21 1950       118  \n",
       "22 1951       104  \n",
       "23 1952       124  \n",
       "24 1953       132  \n",
       "25 1954       121  \n",
       "26 1955       161  \n",
       "27 1956       128  \n",
       "28 1957       146  \n",
       "29 1958       125  \n",
       "30 1959       104  \n",
       "⋮  ⋮          ⋮    \n",
       "63 1992         209\n",
       "64 1993         221\n",
       "65 1994         230\n",
       "66 1995         181\n",
       "67 1996         149\n",
       "68 1997         157\n",
       "69 1998         106\n",
       "70 1999         127\n",
       "71 2000          84\n",
       "72 2001          71\n",
       "73 2002          56\n",
       "74 2003          46\n",
       "75 2004          53\n",
       "76 2005          25\n",
       "77 2006          21\n",
       "78 2007          27\n",
       "79 2008          23\n",
       "80 2009          23\n",
       "81 2010          36\n",
       "82 2011          16\n",
       "83 2012          23\n",
       "84 2013          23\n",
       "85 2014          29\n",
       "86 2015          23\n",
       "87 2016          38\n",
       "88 2017          29\n",
       "89 2018          45\n",
       "90 2019          56\n",
       "91 2020          73\n",
       "92 YYYY       28243"
      ]
     },
     "metadata": {},
     "output_type": "display_data"
    }
   ],
   "source": [
    "#check the birth_year\n",
    "patients %>% count(birth_year)\n",
    "\n",
    "#when birth year == AAAA the year of birth is equal to or before 1930 \n",
    "#information given by institution that provided the data\n",
    "patients$birth_year[patients$birth_year == 'AAAA'] <- '1930'\n",
    "\n",
    "#check the transformation\n",
    "patients %>% count(birth_year)"
   ]
  },
  {
   "cell_type": "code",
   "execution_count": 11,
   "metadata": {
    "id": "b-cQF623HQh-"
   },
   "outputs": [
    {
     "data": {
      "text/html": [
       "<style>\n",
       ".list-inline {list-style: none; margin:0; padding: 0}\n",
       ".list-inline>li {display: inline-block}\n",
       ".list-inline>li:not(:last-child)::after {content: \"\\00b7\"; padding: 0 .5ex}\n",
       "</style>\n",
       "<ol class=list-inline><li>217991</li><li>8</li></ol>\n"
      ],
      "text/latex": [
       "\\begin{enumerate*}\n",
       "\\item 217991\n",
       "\\item 8\n",
       "\\end{enumerate*}\n"
      ],
      "text/markdown": [
       "1. 217991\n",
       "2. 8\n",
       "\n",
       "\n"
      ],
      "text/plain": [
       "[1] 217991      8"
      ]
     },
     "metadata": {},
     "output_type": "display_data"
    }
   ],
   "source": [
    "#transform the colums outcome_date, attendance_date and test_date to date format\n",
    "outcomes$outcome_date <- as.Date(outcomes$outcome_date, format=\"%d/%m/%Y\")\n",
    "outcomes$attendance_date<- as.Date(outcomes$attendance_date, format=\"%d/%m/%Y\")\n",
    "tests$test_date <- as.Date(tests$test_date, format=\"%d/%m/%Y\")\n",
    "\n",
    "#dimensions\n",
    "outcomes %>% dim\n",
    "\n",
    "#create a new column with the number of days between the first attendance and the outcome \n",
    "outcomes %>% mutate(outcome_days = (difftime(outcomes$outcome_date, outcomes$attendance_date, unit = \"days\"))) -> outcomes\n",
    "outcomes$outcome_days <- as.integer(outcomes$outcome_days)\n"
   ]
  },
  {
   "cell_type": "code",
   "execution_count": 12,
   "metadata": {},
   "outputs": [
    {
     "data": {
      "text/html": [
       "<table>\n",
       "<caption>A data.frame: 570 × 2</caption>\n",
       "<thead>\n",
       "\t<tr><th scope=col>attendance_date</th><th scope=col>n</th></tr>\n",
       "\t<tr><th scope=col>&lt;date&gt;</th><th scope=col>&lt;int&gt;</th></tr>\n",
       "</thead>\n",
       "<tbody>\n",
       "\t<tr><td>2015-09-08</td><td>1</td></tr>\n",
       "\t<tr><td>2015-09-10</td><td>1</td></tr>\n",
       "\t<tr><td>2015-09-14</td><td>1</td></tr>\n",
       "\t<tr><td>2016-12-01</td><td>1</td></tr>\n",
       "\t<tr><td>2017-01-06</td><td>1</td></tr>\n",
       "\t<tr><td>2017-01-26</td><td>1</td></tr>\n",
       "\t<tr><td>2017-02-01</td><td>1</td></tr>\n",
       "\t<tr><td>2017-02-13</td><td>1</td></tr>\n",
       "\t<tr><td>2017-02-14</td><td>1</td></tr>\n",
       "\t<tr><td>2017-02-16</td><td>1</td></tr>\n",
       "\t<tr><td>2017-02-17</td><td>1</td></tr>\n",
       "\t<tr><td>2017-02-23</td><td>1</td></tr>\n",
       "\t<tr><td>2017-03-10</td><td>1</td></tr>\n",
       "\t<tr><td>2017-03-25</td><td>1</td></tr>\n",
       "\t<tr><td>2017-04-17</td><td>1</td></tr>\n",
       "\t<tr><td>2017-05-02</td><td>1</td></tr>\n",
       "\t<tr><td>2017-05-19</td><td>1</td></tr>\n",
       "\t<tr><td>2017-05-30</td><td>1</td></tr>\n",
       "\t<tr><td>2017-06-01</td><td>1</td></tr>\n",
       "\t<tr><td>2017-06-08</td><td>1</td></tr>\n",
       "\t<tr><td>2017-06-27</td><td>1</td></tr>\n",
       "\t<tr><td>2017-06-28</td><td>1</td></tr>\n",
       "\t<tr><td>2017-06-29</td><td>1</td></tr>\n",
       "\t<tr><td>2017-07-01</td><td>3</td></tr>\n",
       "\t<tr><td>2017-07-03</td><td>4</td></tr>\n",
       "\t<tr><td>2017-07-07</td><td>2</td></tr>\n",
       "\t<tr><td>2017-07-11</td><td>1</td></tr>\n",
       "\t<tr><td>2017-07-12</td><td>1</td></tr>\n",
       "\t<tr><td>2017-07-13</td><td>1</td></tr>\n",
       "\t<tr><td>2017-07-17</td><td>6</td></tr>\n",
       "\t<tr><td>⋮</td><td>⋮</td></tr>\n",
       "\t<tr><td>2021-01-02</td><td> 364</td></tr>\n",
       "\t<tr><td>2021-01-03</td><td> 224</td></tr>\n",
       "\t<tr><td>2021-01-04</td><td> 937</td></tr>\n",
       "\t<tr><td>2021-01-05</td><td>1036</td></tr>\n",
       "\t<tr><td>2021-01-06</td><td> 975</td></tr>\n",
       "\t<tr><td>2021-01-07</td><td>1057</td></tr>\n",
       "\t<tr><td>2021-01-08</td><td> 872</td></tr>\n",
       "\t<tr><td>2021-01-09</td><td> 423</td></tr>\n",
       "\t<tr><td>2021-01-10</td><td> 211</td></tr>\n",
       "\t<tr><td>2021-01-11</td><td>1130</td></tr>\n",
       "\t<tr><td>2021-01-12</td><td>1025</td></tr>\n",
       "\t<tr><td>2021-01-13</td><td> 987</td></tr>\n",
       "\t<tr><td>2021-01-14</td><td>1030</td></tr>\n",
       "\t<tr><td>2021-01-15</td><td> 852</td></tr>\n",
       "\t<tr><td>2021-01-16</td><td> 410</td></tr>\n",
       "\t<tr><td>2021-01-17</td><td> 165</td></tr>\n",
       "\t<tr><td>2021-01-18</td><td>1053</td></tr>\n",
       "\t<tr><td>2021-01-19</td><td>1016</td></tr>\n",
       "\t<tr><td>2021-01-20</td><td> 932</td></tr>\n",
       "\t<tr><td>2021-01-21</td><td> 933</td></tr>\n",
       "\t<tr><td>2021-01-22</td><td> 812</td></tr>\n",
       "\t<tr><td>2021-01-23</td><td> 314</td></tr>\n",
       "\t<tr><td>2021-01-24</td><td> 156</td></tr>\n",
       "\t<tr><td>2021-01-25</td><td> 384</td></tr>\n",
       "\t<tr><td>2021-01-26</td><td> 977</td></tr>\n",
       "\t<tr><td>2021-01-27</td><td> 884</td></tr>\n",
       "\t<tr><td>2021-01-28</td><td> 944</td></tr>\n",
       "\t<tr><td>2021-01-29</td><td> 700</td></tr>\n",
       "\t<tr><td>2021-01-30</td><td> 335</td></tr>\n",
       "\t<tr><td>2021-01-31</td><td>  98</td></tr>\n",
       "</tbody>\n",
       "</table>\n"
      ],
      "text/latex": [
       "A data.frame: 570 × 2\n",
       "\\begin{tabular}{ll}\n",
       " attendance\\_date & n\\\\\n",
       " <date> & <int>\\\\\n",
       "\\hline\n",
       "\t 2015-09-08 & 1\\\\\n",
       "\t 2015-09-10 & 1\\\\\n",
       "\t 2015-09-14 & 1\\\\\n",
       "\t 2016-12-01 & 1\\\\\n",
       "\t 2017-01-06 & 1\\\\\n",
       "\t 2017-01-26 & 1\\\\\n",
       "\t 2017-02-01 & 1\\\\\n",
       "\t 2017-02-13 & 1\\\\\n",
       "\t 2017-02-14 & 1\\\\\n",
       "\t 2017-02-16 & 1\\\\\n",
       "\t 2017-02-17 & 1\\\\\n",
       "\t 2017-02-23 & 1\\\\\n",
       "\t 2017-03-10 & 1\\\\\n",
       "\t 2017-03-25 & 1\\\\\n",
       "\t 2017-04-17 & 1\\\\\n",
       "\t 2017-05-02 & 1\\\\\n",
       "\t 2017-05-19 & 1\\\\\n",
       "\t 2017-05-30 & 1\\\\\n",
       "\t 2017-06-01 & 1\\\\\n",
       "\t 2017-06-08 & 1\\\\\n",
       "\t 2017-06-27 & 1\\\\\n",
       "\t 2017-06-28 & 1\\\\\n",
       "\t 2017-06-29 & 1\\\\\n",
       "\t 2017-07-01 & 3\\\\\n",
       "\t 2017-07-03 & 4\\\\\n",
       "\t 2017-07-07 & 2\\\\\n",
       "\t 2017-07-11 & 1\\\\\n",
       "\t 2017-07-12 & 1\\\\\n",
       "\t 2017-07-13 & 1\\\\\n",
       "\t 2017-07-17 & 6\\\\\n",
       "\t ⋮ & ⋮\\\\\n",
       "\t 2021-01-02 &  364\\\\\n",
       "\t 2021-01-03 &  224\\\\\n",
       "\t 2021-01-04 &  937\\\\\n",
       "\t 2021-01-05 & 1036\\\\\n",
       "\t 2021-01-06 &  975\\\\\n",
       "\t 2021-01-07 & 1057\\\\\n",
       "\t 2021-01-08 &  872\\\\\n",
       "\t 2021-01-09 &  423\\\\\n",
       "\t 2021-01-10 &  211\\\\\n",
       "\t 2021-01-11 & 1130\\\\\n",
       "\t 2021-01-12 & 1025\\\\\n",
       "\t 2021-01-13 &  987\\\\\n",
       "\t 2021-01-14 & 1030\\\\\n",
       "\t 2021-01-15 &  852\\\\\n",
       "\t 2021-01-16 &  410\\\\\n",
       "\t 2021-01-17 &  165\\\\\n",
       "\t 2021-01-18 & 1053\\\\\n",
       "\t 2021-01-19 & 1016\\\\\n",
       "\t 2021-01-20 &  932\\\\\n",
       "\t 2021-01-21 &  933\\\\\n",
       "\t 2021-01-22 &  812\\\\\n",
       "\t 2021-01-23 &  314\\\\\n",
       "\t 2021-01-24 &  156\\\\\n",
       "\t 2021-01-25 &  384\\\\\n",
       "\t 2021-01-26 &  977\\\\\n",
       "\t 2021-01-27 &  884\\\\\n",
       "\t 2021-01-28 &  944\\\\\n",
       "\t 2021-01-29 &  700\\\\\n",
       "\t 2021-01-30 &  335\\\\\n",
       "\t 2021-01-31 &   98\\\\\n",
       "\\end{tabular}\n"
      ],
      "text/markdown": [
       "\n",
       "A data.frame: 570 × 2\n",
       "\n",
       "| attendance_date &lt;date&gt; | n &lt;int&gt; |\n",
       "|---|---|\n",
       "| 2015-09-08 | 1 |\n",
       "| 2015-09-10 | 1 |\n",
       "| 2015-09-14 | 1 |\n",
       "| 2016-12-01 | 1 |\n",
       "| 2017-01-06 | 1 |\n",
       "| 2017-01-26 | 1 |\n",
       "| 2017-02-01 | 1 |\n",
       "| 2017-02-13 | 1 |\n",
       "| 2017-02-14 | 1 |\n",
       "| 2017-02-16 | 1 |\n",
       "| 2017-02-17 | 1 |\n",
       "| 2017-02-23 | 1 |\n",
       "| 2017-03-10 | 1 |\n",
       "| 2017-03-25 | 1 |\n",
       "| 2017-04-17 | 1 |\n",
       "| 2017-05-02 | 1 |\n",
       "| 2017-05-19 | 1 |\n",
       "| 2017-05-30 | 1 |\n",
       "| 2017-06-01 | 1 |\n",
       "| 2017-06-08 | 1 |\n",
       "| 2017-06-27 | 1 |\n",
       "| 2017-06-28 | 1 |\n",
       "| 2017-06-29 | 1 |\n",
       "| 2017-07-01 | 3 |\n",
       "| 2017-07-03 | 4 |\n",
       "| 2017-07-07 | 2 |\n",
       "| 2017-07-11 | 1 |\n",
       "| 2017-07-12 | 1 |\n",
       "| 2017-07-13 | 1 |\n",
       "| 2017-07-17 | 6 |\n",
       "| ⋮ | ⋮ |\n",
       "| 2021-01-02 |  364 |\n",
       "| 2021-01-03 |  224 |\n",
       "| 2021-01-04 |  937 |\n",
       "| 2021-01-05 | 1036 |\n",
       "| 2021-01-06 |  975 |\n",
       "| 2021-01-07 | 1057 |\n",
       "| 2021-01-08 |  872 |\n",
       "| 2021-01-09 |  423 |\n",
       "| 2021-01-10 |  211 |\n",
       "| 2021-01-11 | 1130 |\n",
       "| 2021-01-12 | 1025 |\n",
       "| 2021-01-13 |  987 |\n",
       "| 2021-01-14 | 1030 |\n",
       "| 2021-01-15 |  852 |\n",
       "| 2021-01-16 |  410 |\n",
       "| 2021-01-17 |  165 |\n",
       "| 2021-01-18 | 1053 |\n",
       "| 2021-01-19 | 1016 |\n",
       "| 2021-01-20 |  932 |\n",
       "| 2021-01-21 |  933 |\n",
       "| 2021-01-22 |  812 |\n",
       "| 2021-01-23 |  314 |\n",
       "| 2021-01-24 |  156 |\n",
       "| 2021-01-25 |  384 |\n",
       "| 2021-01-26 |  977 |\n",
       "| 2021-01-27 |  884 |\n",
       "| 2021-01-28 |  944 |\n",
       "| 2021-01-29 |  700 |\n",
       "| 2021-01-30 |  335 |\n",
       "| 2021-01-31 |   98 |\n",
       "\n"
      ],
      "text/plain": [
       "    attendance_date n   \n",
       "1   2015-09-08      1   \n",
       "2   2015-09-10      1   \n",
       "3   2015-09-14      1   \n",
       "4   2016-12-01      1   \n",
       "5   2017-01-06      1   \n",
       "6   2017-01-26      1   \n",
       "7   2017-02-01      1   \n",
       "8   2017-02-13      1   \n",
       "9   2017-02-14      1   \n",
       "10  2017-02-16      1   \n",
       "11  2017-02-17      1   \n",
       "12  2017-02-23      1   \n",
       "13  2017-03-10      1   \n",
       "14  2017-03-25      1   \n",
       "15  2017-04-17      1   \n",
       "16  2017-05-02      1   \n",
       "17  2017-05-19      1   \n",
       "18  2017-05-30      1   \n",
       "19  2017-06-01      1   \n",
       "20  2017-06-08      1   \n",
       "21  2017-06-27      1   \n",
       "22  2017-06-28      1   \n",
       "23  2017-06-29      1   \n",
       "24  2017-07-01      3   \n",
       "25  2017-07-03      4   \n",
       "26  2017-07-07      2   \n",
       "27  2017-07-11      1   \n",
       "28  2017-07-12      1   \n",
       "29  2017-07-13      1   \n",
       "30  2017-07-17      6   \n",
       "⋮   ⋮               ⋮   \n",
       "541 2021-01-02       364\n",
       "542 2021-01-03       224\n",
       "543 2021-01-04       937\n",
       "544 2021-01-05      1036\n",
       "545 2021-01-06       975\n",
       "546 2021-01-07      1057\n",
       "547 2021-01-08       872\n",
       "548 2021-01-09       423\n",
       "549 2021-01-10       211\n",
       "550 2021-01-11      1130\n",
       "551 2021-01-12      1025\n",
       "552 2021-01-13       987\n",
       "553 2021-01-14      1030\n",
       "554 2021-01-15       852\n",
       "555 2021-01-16       410\n",
       "556 2021-01-17       165\n",
       "557 2021-01-18      1053\n",
       "558 2021-01-19      1016\n",
       "559 2021-01-20       932\n",
       "560 2021-01-21       933\n",
       "561 2021-01-22       812\n",
       "562 2021-01-23       314\n",
       "563 2021-01-24       156\n",
       "564 2021-01-25       384\n",
       "565 2021-01-26       977\n",
       "566 2021-01-27       884\n",
       "567 2021-01-28       944\n",
       "568 2021-01-29       700\n",
       "569 2021-01-30       335\n",
       "570 2021-01-31        98"
      ]
     },
     "metadata": {},
     "output_type": "display_data"
    }
   ],
   "source": [
    "#check attendance_date\n",
    "outcomes %>% count(attendance_date)"
   ]
  },
  {
   "cell_type": "code",
   "execution_count": 13,
   "metadata": {
    "colab": {
     "base_uri": "https://localhost:8080/",
     "height": 123
    },
    "id": "y3w8JWz40tKw",
    "outputId": "76ffad17-274d-434b-e80c-b6c268c3202f"
   },
   "outputs": [
    {
     "name": "stderr",
     "output_type": "stream",
     "text": [
      "Joining, by = \"id\"\n",
      "\n",
      "Joining, by = c(\"id\", \"id_attendance\")\n",
      "\n"
     ]
    },
    {
     "data": {
      "text/html": [
       "<style>\n",
       ".list-inline {list-style: none; margin:0; padding: 0}\n",
       ".list-inline>li {display: inline-block}\n",
       ".list-inline>li:not(:last-child)::after {content: \"\\00b7\"; padding: 0 .5ex}\n",
       "</style>\n",
       "<ol class=list-inline><li>33800</li><li>1</li></ol>\n"
      ],
      "text/latex": [
       "\\begin{enumerate*}\n",
       "\\item 33800\n",
       "\\item 1\n",
       "\\end{enumerate*}\n"
      ],
      "text/markdown": [
       "1. 33800\n",
       "2. 1\n",
       "\n",
       "\n"
      ],
      "text/plain": [
       "[1] 33800     1"
      ]
     },
     "metadata": {},
     "output_type": "display_data"
    },
    {
     "data": {
      "text/html": [
       "<style>\n",
       ".list-inline {list-style: none; margin:0; padding: 0}\n",
       ".list-inline>li {display: inline-block}\n",
       ".list-inline>li:not(:last-child)::after {content: \"\\00b7\"; padding: 0 .5ex}\n",
       "</style>\n",
       "<ol class=list-inline><li>76506</li><li>1</li></ol>\n"
      ],
      "text/latex": [
       "\\begin{enumerate*}\n",
       "\\item 76506\n",
       "\\item 1\n",
       "\\end{enumerate*}\n"
      ],
      "text/markdown": [
       "1. 76506\n",
       "2. 1\n",
       "\n",
       "\n"
      ],
      "text/plain": [
       "[1] 76506     1"
      ]
     },
     "metadata": {},
     "output_type": "display_data"
    },
    {
     "data": {
      "text/html": [
       "<style>\n",
       ".list-inline {list-style: none; margin:0; padding: 0}\n",
       ".list-inline>li {display: inline-block}\n",
       ".list-inline>li:not(:last-child)::after {content: \"\\00b7\"; padding: 0 .5ex}\n",
       "</style>\n",
       "<ol class=list-inline><li>5229119</li><li>24</li></ol>\n"
      ],
      "text/latex": [
       "\\begin{enumerate*}\n",
       "\\item 5229119\n",
       "\\item 24\n",
       "\\end{enumerate*}\n"
      ],
      "text/markdown": [
       "1. 5229119\n",
       "2. 24\n",
       "\n",
       "\n"
      ],
      "text/plain": [
       "[1] 5229119      24"
      ]
     },
     "metadata": {},
     "output_type": "display_data"
    }
   ],
   "source": [
    "#join patients, tests and outcomes\n",
    "tests %>% left_join(patients) -> tests\n",
    "tests %>% left_join(outcomes) -> tests\n",
    "\n",
    "#check how many patients (ids) and attendances (id_attendance) \n",
    "tests %>% select(id) %>% unique %>% dim\n",
    "tests %>% select(id_attendance) %>% unique %>% dim\n",
    "\n",
    "#create a new column with the number of days between the first attendance and the test\n",
    "tests %>% mutate(test_days = (difftime(tests$test_date, tests$attendance_date,  unit = \"days\"))) -> tests\n",
    "tests$test_days <- as.integer(tests$test_days)\n",
    "\n",
    "#dimensions\n",
    "tests %>% dim"
   ]
  },
  {
   "cell_type": "code",
   "execution_count": null,
   "metadata": {},
   "outputs": [],
   "source": [
    "tests %>% write_csv('bp_integrated.csv')"
   ]
  }
 ],
 "metadata": {
  "colab": {
   "collapsed_sections": [],
   "name": "Integração dados - BP",
   "provenance": []
  },
  "kernelspec": {
   "display_name": "R",
   "language": "R",
   "name": "ir"
  },
  "language_info": {
   "codemirror_mode": "r",
   "file_extension": ".r",
   "mimetype": "text/x-r-source",
   "name": "R",
   "pygments_lexer": "r",
   "version": "3.6.3"
  }
 },
 "nbformat": 4,
 "nbformat_minor": 4
}
