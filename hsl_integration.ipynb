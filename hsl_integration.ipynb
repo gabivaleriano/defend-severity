{
 "cells": [
  {
   "cell_type": "markdown",
   "metadata": {},
   "source": [
    "Hospital data preprocessing for severity prognosis study in COVID-19\n",
    "\n",
    "Autors: Maria Gabriela Valeriano, Ana Carolina Lorena, Carlos Kiffer\n",
    "\n",
    "Source: Hospital Sírio Libanes, made available by FAPESP through COVID-19 Data Sharing/BR-USP. The original data is available at https://repositoriodatasharingfapesp.uspdigital.usp.br/\n",
    "\n",
    "The data is divided in three files: Pacients, Tests and Outcomes. Each patient has an id and each patient hospital visit receive an new id_attendance as identification. \n",
    "\n",
    "In the file tests, there are some cases when the same test have similar but divergent label. This cases were resolved with the help of an expert. The file 'HSL_Exames_4_labels.csv' have this issues corrected. "
   ]
  },
  {
   "cell_type": "code",
   "execution_count": 1,
   "metadata": {
    "colab": {
     "base_uri": "https://localhost:8080/"
    },
    "id": "ypI1tuaA9tp2",
    "outputId": "d79dc50a-6a42-4654-c97c-50a2f9cac4ee"
   },
   "outputs": [
    {
     "name": "stderr",
     "output_type": "stream",
     "text": [
      "── \u001b[1mAttaching packages\u001b[22m ─────────────────────────────────────── tidyverse 1.3.0 ──\n",
      "\n",
      "\u001b[32m✔\u001b[39m \u001b[34mggplot2\u001b[39m 3.3.1     \u001b[32m✔\u001b[39m \u001b[34mpurrr  \u001b[39m 0.3.4\n",
      "\u001b[32m✔\u001b[39m \u001b[34mtibble \u001b[39m 3.0.1     \u001b[32m✔\u001b[39m \u001b[34mdplyr  \u001b[39m 1.0.0\n",
      "\u001b[32m✔\u001b[39m \u001b[34mtidyr  \u001b[39m 1.1.0     \u001b[32m✔\u001b[39m \u001b[34mstringr\u001b[39m 1.4.0\n",
      "\u001b[32m✔\u001b[39m \u001b[34mreadr  \u001b[39m 1.3.1     \u001b[32m✔\u001b[39m \u001b[34mforcats\u001b[39m 0.5.0\n",
      "\n",
      "── \u001b[1mConflicts\u001b[22m ────────────────────────────────────────── tidyverse_conflicts() ──\n",
      "\u001b[31m✖\u001b[39m \u001b[34mdplyr\u001b[39m::\u001b[32mfilter()\u001b[39m masks \u001b[34mstats\u001b[39m::filter()\n",
      "\u001b[31m✖\u001b[39m \u001b[34mdplyr\u001b[39m::\u001b[32mlag()\u001b[39m    masks \u001b[34mstats\u001b[39m::lag()\n",
      "\n"
     ]
    }
   ],
   "source": [
    "library(tidyverse)"
   ]
  },
  {
   "cell_type": "code",
   "execution_count": 2,
   "metadata": {
    "colab": {
     "base_uri": "https://localhost:8080/",
     "height": 52
    },
    "id": "C09MKIfIGo5z",
    "outputId": "6d7f475e-1f3a-49df-b61b-e254bf725fb8"
   },
   "outputs": [
    {
     "data": {
      "text/html": [
       "<style>\n",
       ".list-inline {list-style: none; margin:0; padding: 0}\n",
       ".list-inline>li {display: inline-block}\n",
       ".list-inline>li:not(:last-child)::after {content: \"\\00b7\"; padding: 0 .5ex}\n",
       "</style>\n",
       "<ol class=list-inline><li>14673</li><li>7</li></ol>\n"
      ],
      "text/latex": [
       "\\begin{enumerate*}\n",
       "\\item 14673\n",
       "\\item 7\n",
       "\\end{enumerate*}\n"
      ],
      "text/markdown": [
       "1. 14673\n",
       "2. 7\n",
       "\n",
       "\n"
      ],
      "text/plain": [
       "[1] 14673     7"
      ]
     },
     "metadata": {},
     "output_type": "display_data"
    },
    {
     "data": {
      "text/html": [
       "<style>\n",
       ".list-inline {list-style: none; margin:0; padding: 0}\n",
       ".list-inline>li {display: inline-block}\n",
       ".list-inline>li:not(:last-child)::after {content: \"\\00b7\"; padding: 0 .5ex}\n",
       "</style>\n",
       "<ol class=list-inline><li>14673</li><li>7</li></ol>\n"
      ],
      "text/latex": [
       "\\begin{enumerate*}\n",
       "\\item 14673\n",
       "\\item 7\n",
       "\\end{enumerate*}\n"
      ],
      "text/markdown": [
       "1. 14673\n",
       "2. 7\n",
       "\n",
       "\n"
      ],
      "text/plain": [
       "[1] 14673     7"
      ]
     },
     "metadata": {},
     "output_type": "display_data"
    }
   ],
   "source": [
    "#file: Pacientes\n",
    "\n",
    "#read the file\n",
    "patients <- read.csv(\"HSL_Pacientes_4.csv\", sep = \"|\", stringsAsFactors = FALSE)\n",
    "\n",
    "#dimensions\n",
    "patients %>% dim\n",
    "\n",
    "#check for repeated lines \n",
    "patients %>% unique %>% dim\n"
   ]
  },
  {
   "cell_type": "code",
   "execution_count": 3,
   "metadata": {
    "id": "A55_CAQyIj20"
   },
   "outputs": [
    {
     "data": {
      "text/html": [
       "14673"
      ],
      "text/latex": [
       "14673"
      ],
      "text/markdown": [
       "14673"
      ],
      "text/plain": [
       "[1] 14673"
      ]
     },
     "metadata": {},
     "output_type": "display_data"
    }
   ],
   "source": [
    "#rename columns\n",
    "names(patients) <- c('id', 'sex', 'birth_year', 'country', 'state', 'city', 'zip_code')\n",
    "\n",
    "#number of patients\n",
    "patients %>% select(id) %>% unique %>% nrow"
   ]
  },
  {
   "cell_type": "code",
   "execution_count": 4,
   "metadata": {
    "colab": {
     "base_uri": "https://localhost:8080/",
     "height": 52
    },
    "id": "8Y5QaiHn919p",
    "outputId": "7cf910df-a075-4f20-9ef6-8b4a187c6bd4"
   },
   "outputs": [
    {
     "data": {
      "text/html": [
       "<style>\n",
       ".list-inline {list-style: none; margin:0; padding: 0}\n",
       ".list-inline>li {display: inline-block}\n",
       ".list-inline>li:not(:last-child)::after {content: \"\\00b7\"; padding: 0 .5ex}\n",
       "</style>\n",
       "<ol class=list-inline><li>2952999</li><li>10</li></ol>\n"
      ],
      "text/latex": [
       "\\begin{enumerate*}\n",
       "\\item 2952999\n",
       "\\item 10\n",
       "\\end{enumerate*}\n"
      ],
      "text/markdown": [
       "1. 2952999\n",
       "2. 10\n",
       "\n",
       "\n"
      ],
      "text/plain": [
       "[1] 2952999      10"
      ]
     },
     "metadata": {},
     "output_type": "display_data"
    },
    {
     "data": {
      "text/html": [
       "<style>\n",
       ".list-inline {list-style: none; margin:0; padding: 0}\n",
       ".list-inline>li {display: inline-block}\n",
       ".list-inline>li:not(:last-child)::after {content: \"\\00b7\"; padding: 0 .5ex}\n",
       "</style>\n",
       "<ol class=list-inline><li>2891301</li><li>10</li></ol>\n"
      ],
      "text/latex": [
       "\\begin{enumerate*}\n",
       "\\item 2891301\n",
       "\\item 10\n",
       "\\end{enumerate*}\n"
      ],
      "text/markdown": [
       "1. 2891301\n",
       "2. 10\n",
       "\n",
       "\n"
      ],
      "text/plain": [
       "[1] 2891301      10"
      ]
     },
     "metadata": {},
     "output_type": "display_data"
    },
    {
     "data": {
      "text/html": [
       "<style>\n",
       ".list-inline {list-style: none; margin:0; padding: 0}\n",
       ".list-inline>li {display: inline-block}\n",
       ".list-inline>li:not(:last-child)::after {content: \"\\00b7\"; padding: 0 .5ex}\n",
       "</style>\n",
       "<ol class=list-inline><li>14673</li><li>1</li></ol>\n"
      ],
      "text/latex": [
       "\\begin{enumerate*}\n",
       "\\item 14673\n",
       "\\item 1\n",
       "\\end{enumerate*}\n"
      ],
      "text/markdown": [
       "1. 14673\n",
       "2. 1\n",
       "\n",
       "\n"
      ],
      "text/plain": [
       "[1] 14673     1"
      ]
     },
     "metadata": {},
     "output_type": "display_data"
    }
   ],
   "source": [
    "#file: tests\n",
    "\n",
    "#read file\n",
    "tests <- read.csv(\"HSL_Exames_4_labels.csv\", stringsAsFactors = FALSE)\n",
    "\n",
    "#dimensions\n",
    "tests %>% dim\n",
    "\n",
    "#check for repeated lines \n",
    "tests %>% unique %>% dim\n",
    "\n",
    "#remove repeated lines \n",
    "tests %>% unique -> tests\n",
    "\n",
    "#number of patients in file \n",
    "tests %>% select(id) %>% unique %>% dim\n",
    "\n"
   ]
  },
  {
   "cell_type": "code",
   "execution_count": 5,
   "metadata": {
    "id": "GmwyC__BANLs"
   },
   "outputs": [],
   "source": [
    "#convert commas -> dots\n",
    "tests <- data.frame(lapply(tests, function(x) {gsub(\",\", \".\", x)}))\n"
   ]
  },
  {
   "cell_type": "code",
   "execution_count": 6,
   "metadata": {},
   "outputs": [
    {
     "data": {
      "text/html": [
       "<style>\n",
       ".list-inline {list-style: none; margin:0; padding: 0}\n",
       ".list-inline>li {display: inline-block}\n",
       ".list-inline>li:not(:last-child)::after {content: \"\\00b7\"; padding: 0 .5ex}\n",
       "</style>\n",
       "<ol class=list-inline><li>37364</li><li>1</li></ol>\n"
      ],
      "text/latex": [
       "\\begin{enumerate*}\n",
       "\\item 37364\n",
       "\\item 1\n",
       "\\end{enumerate*}\n"
      ],
      "text/markdown": [
       "1. 37364\n",
       "2. 1\n",
       "\n",
       "\n"
      ],
      "text/plain": [
       "[1] 37364     1"
      ]
     },
     "metadata": {},
     "output_type": "display_data"
    }
   ],
   "source": [
    "#rename columns\n",
    "names(tests) <- c('id', 'id_attendance', 'test_date', 'place', 'result', 'measurement_unit', 'normal_value', 'test', 'analyte', 'test_analyte')\n",
    "tests %>% select(id_attendance) %>% unique %>% dim"
   ]
  },
  {
   "cell_type": "code",
   "execution_count": 7,
   "metadata": {
    "colab": {
     "base_uri": "https://localhost:8080/",
     "height": 52
    },
    "id": "IM4SIgUVCiQj",
    "outputId": "48d975f9-1de0-4849-a1a6-f556c566a7ca"
   },
   "outputs": [
    {
     "data": {
      "text/html": [
       "<style>\n",
       ".list-inline {list-style: none; margin:0; padding: 0}\n",
       ".list-inline>li {display: inline-block}\n",
       ".list-inline>li:not(:last-child)::after {content: \"\\00b7\"; padding: 0 .5ex}\n",
       "</style>\n",
       "<ol class=list-inline><li>89937</li><li>8</li></ol>\n"
      ],
      "text/latex": [
       "\\begin{enumerate*}\n",
       "\\item 89937\n",
       "\\item 8\n",
       "\\end{enumerate*}\n"
      ],
      "text/markdown": [
       "1. 89937\n",
       "2. 8\n",
       "\n",
       "\n"
      ],
      "text/plain": [
       "[1] 89937     8"
      ]
     },
     "metadata": {},
     "output_type": "display_data"
    },
    {
     "data": {
      "text/html": [
       "<style>\n",
       ".list-inline {list-style: none; margin:0; padding: 0}\n",
       ".list-inline>li {display: inline-block}\n",
       ".list-inline>li:not(:last-child)::after {content: \"\\00b7\"; padding: 0 .5ex}\n",
       "</style>\n",
       "<ol class=list-inline><li>89937</li><li>8</li></ol>\n"
      ],
      "text/latex": [
       "\\begin{enumerate*}\n",
       "\\item 89937\n",
       "\\item 8\n",
       "\\end{enumerate*}\n"
      ],
      "text/markdown": [
       "1. 89937\n",
       "2. 8\n",
       "\n",
       "\n"
      ],
      "text/plain": [
       "[1] 89937     8"
      ]
     },
     "metadata": {},
     "output_type": "display_data"
    }
   ],
   "source": [
    "#file: Desfechos\n",
    "\n",
    "#read the file\n",
    "outcomes <- read.csv(\"HSL_Desfechos_4.csv\", sep = \"|\", stringsAsFactors = FALSE) \n",
    "\n",
    "#dimensions\n",
    "outcomes %>% dim\n",
    "\n",
    "#check for repeated lines \n",
    "outcomes %>% unique %>% dim"
   ]
  },
  {
   "cell_type": "code",
   "execution_count": 8,
   "metadata": {
    "id": "BqtkasuNJJGm"
   },
   "outputs": [
    {
     "data": {
      "text/html": [
       "<style>\n",
       ".list-inline {list-style: none; margin:0; padding: 0}\n",
       ".list-inline>li {display: inline-block}\n",
       ".list-inline>li:not(:last-child)::after {content: \"\\00b7\"; padding: 0 .5ex}\n",
       "</style>\n",
       "<ol class=list-inline><li>14672</li><li>1</li></ol>\n"
      ],
      "text/latex": [
       "\\begin{enumerate*}\n",
       "\\item 14672\n",
       "\\item 1\n",
       "\\end{enumerate*}\n"
      ],
      "text/markdown": [
       "1. 14672\n",
       "2. 1\n",
       "\n",
       "\n"
      ],
      "text/plain": [
       "[1] 14672     1"
      ]
     },
     "metadata": {},
     "output_type": "display_data"
    },
    {
     "data": {
      "text/html": [
       "<style>\n",
       ".list-inline {list-style: none; margin:0; padding: 0}\n",
       ".list-inline>li {display: inline-block}\n",
       ".list-inline>li:not(:last-child)::after {content: \"\\00b7\"; padding: 0 .5ex}\n",
       "</style>\n",
       "<ol class=list-inline><li>89937</li><li>1</li></ol>\n"
      ],
      "text/latex": [
       "\\begin{enumerate*}\n",
       "\\item 89937\n",
       "\\item 1\n",
       "\\end{enumerate*}\n"
      ],
      "text/markdown": [
       "1. 89937\n",
       "2. 1\n",
       "\n",
       "\n"
      ],
      "text/plain": [
       "[1] 89937     1"
      ]
     },
     "metadata": {},
     "output_type": "display_data"
    }
   ],
   "source": [
    "#rename columns 'clinic', 'result', 'measurement_unit', 'normal_value', 'test', 'analyte', 'test_analyte'\n",
    "names(outcomes) <- c('id', 'id_attendance', 'attendance_date', 'attendance_type', 'id_clinic', 'clinic', 'outcome_date','outcome_patient')\n",
    "\n",
    "#number of patients and attendances\n",
    "outcomes %>% select(id) %>% unique %>% dim\n",
    "outcomes %>% select(id_attendance) %>% unique %>% dim"
   ]
  },
  {
   "cell_type": "code",
   "execution_count": 9,
   "metadata": {},
   "outputs": [
    {
     "data": {
      "text/html": [
       "<table>\n",
       "<caption>A data.frame: 1 × 2</caption>\n",
       "<thead>\n",
       "\t<tr><th scope=col>outcome_date</th><th scope=col>n</th></tr>\n",
       "\t<tr><th scope=col>&lt;chr&gt;</th><th scope=col>&lt;int&gt;</th></tr>\n",
       "</thead>\n",
       "<tbody>\n",
       "\t<tr><td>DDMMAA</td><td>202</td></tr>\n",
       "</tbody>\n",
       "</table>\n"
      ],
      "text/latex": [
       "A data.frame: 1 × 2\n",
       "\\begin{tabular}{ll}\n",
       " outcome\\_date & n\\\\\n",
       " <chr> & <int>\\\\\n",
       "\\hline\n",
       "\t DDMMAA & 202\\\\\n",
       "\\end{tabular}\n"
      ],
      "text/markdown": [
       "\n",
       "A data.frame: 1 × 2\n",
       "\n",
       "| outcome_date &lt;chr&gt; | n &lt;int&gt; |\n",
       "|---|---|\n",
       "| DDMMAA | 202 |\n",
       "\n"
      ],
      "text/plain": [
       "  outcome_date n  \n",
       "1 DDMMAA       202"
      ]
     },
     "metadata": {},
     "output_type": "display_data"
    }
   ],
   "source": [
    "#when outcome_patient == death, it does not have outcome_date \n",
    "#this issue is due to the criteria adopted for anonymization by the institution that provided the data\n",
    "\n",
    "outcomes %>% \n",
    "filter(str_detect(outcome_patient, 'Óbito')) %>%  \n",
    "count(outcome_date)"
   ]
  },
  {
   "cell_type": "code",
   "execution_count": 10,
   "metadata": {},
   "outputs": [
    {
     "data": {
      "text/html": [
       "<table>\n",
       "<caption>A data.frame: 92 × 2</caption>\n",
       "<thead>\n",
       "\t<tr><th scope=col>birth_year</th><th scope=col>n</th></tr>\n",
       "\t<tr><th scope=col>&lt;chr&gt;</th><th scope=col>&lt;int&gt;</th></tr>\n",
       "</thead>\n",
       "<tbody>\n",
       "\t<tr><td>1931</td><td> 18</td></tr>\n",
       "\t<tr><td>1932</td><td> 22</td></tr>\n",
       "\t<tr><td>1933</td><td> 32</td></tr>\n",
       "\t<tr><td>1934</td><td> 33</td></tr>\n",
       "\t<tr><td>1935</td><td> 37</td></tr>\n",
       "\t<tr><td>1936</td><td> 38</td></tr>\n",
       "\t<tr><td>1937</td><td> 38</td></tr>\n",
       "\t<tr><td>1938</td><td> 44</td></tr>\n",
       "\t<tr><td>1939</td><td> 51</td></tr>\n",
       "\t<tr><td>1940</td><td> 56</td></tr>\n",
       "\t<tr><td>1941</td><td> 51</td></tr>\n",
       "\t<tr><td>1942</td><td> 62</td></tr>\n",
       "\t<tr><td>1943</td><td> 59</td></tr>\n",
       "\t<tr><td>1944</td><td> 69</td></tr>\n",
       "\t<tr><td>1945</td><td> 64</td></tr>\n",
       "\t<tr><td>1946</td><td> 64</td></tr>\n",
       "\t<tr><td>1947</td><td> 75</td></tr>\n",
       "\t<tr><td>1948</td><td>107</td></tr>\n",
       "\t<tr><td>1949</td><td> 77</td></tr>\n",
       "\t<tr><td>1950</td><td> 98</td></tr>\n",
       "\t<tr><td>1951</td><td>107</td></tr>\n",
       "\t<tr><td>1952</td><td>105</td></tr>\n",
       "\t<tr><td>1953</td><td>104</td></tr>\n",
       "\t<tr><td>1954</td><td>105</td></tr>\n",
       "\t<tr><td>1955</td><td>117</td></tr>\n",
       "\t<tr><td>1956</td><td>137</td></tr>\n",
       "\t<tr><td>1957</td><td>122</td></tr>\n",
       "\t<tr><td>1958</td><td>135</td></tr>\n",
       "\t<tr><td>1959</td><td>143</td></tr>\n",
       "\t<tr><td>1960</td><td>155</td></tr>\n",
       "\t<tr><td>⋮</td><td>⋮</td></tr>\n",
       "\t<tr><td>1993</td><td>250</td></tr>\n",
       "\t<tr><td>1994</td><td>229</td></tr>\n",
       "\t<tr><td>1995</td><td>214</td></tr>\n",
       "\t<tr><td>1996</td><td>196</td></tr>\n",
       "\t<tr><td>1997</td><td>176</td></tr>\n",
       "\t<tr><td>1998</td><td>164</td></tr>\n",
       "\t<tr><td>1999</td><td>138</td></tr>\n",
       "\t<tr><td>2000</td><td>155</td></tr>\n",
       "\t<tr><td>2001</td><td>129</td></tr>\n",
       "\t<tr><td>2002</td><td> 96</td></tr>\n",
       "\t<tr><td>2003</td><td> 89</td></tr>\n",
       "\t<tr><td>2004</td><td> 95</td></tr>\n",
       "\t<tr><td>2005</td><td> 75</td></tr>\n",
       "\t<tr><td>2006</td><td> 63</td></tr>\n",
       "\t<tr><td>2007</td><td> 48</td></tr>\n",
       "\t<tr><td>2008</td><td> 41</td></tr>\n",
       "\t<tr><td>2009</td><td> 50</td></tr>\n",
       "\t<tr><td>2010</td><td> 42</td></tr>\n",
       "\t<tr><td>2011</td><td> 36</td></tr>\n",
       "\t<tr><td>2012</td><td> 42</td></tr>\n",
       "\t<tr><td>2013</td><td> 42</td></tr>\n",
       "\t<tr><td>2014</td><td> 36</td></tr>\n",
       "\t<tr><td>2015</td><td> 32</td></tr>\n",
       "\t<tr><td>2016</td><td> 27</td></tr>\n",
       "\t<tr><td>2017</td><td> 32</td></tr>\n",
       "\t<tr><td>2018</td><td> 39</td></tr>\n",
       "\t<tr><td>2019</td><td> 40</td></tr>\n",
       "\t<tr><td>2020</td><td> 17</td></tr>\n",
       "\t<tr><td>AAAA</td><td>125</td></tr>\n",
       "\t<tr><td>YYYY</td><td>100</td></tr>\n",
       "</tbody>\n",
       "</table>\n"
      ],
      "text/latex": [
       "A data.frame: 92 × 2\n",
       "\\begin{tabular}{ll}\n",
       " birth\\_year & n\\\\\n",
       " <chr> & <int>\\\\\n",
       "\\hline\n",
       "\t 1931 &  18\\\\\n",
       "\t 1932 &  22\\\\\n",
       "\t 1933 &  32\\\\\n",
       "\t 1934 &  33\\\\\n",
       "\t 1935 &  37\\\\\n",
       "\t 1936 &  38\\\\\n",
       "\t 1937 &  38\\\\\n",
       "\t 1938 &  44\\\\\n",
       "\t 1939 &  51\\\\\n",
       "\t 1940 &  56\\\\\n",
       "\t 1941 &  51\\\\\n",
       "\t 1942 &  62\\\\\n",
       "\t 1943 &  59\\\\\n",
       "\t 1944 &  69\\\\\n",
       "\t 1945 &  64\\\\\n",
       "\t 1946 &  64\\\\\n",
       "\t 1947 &  75\\\\\n",
       "\t 1948 & 107\\\\\n",
       "\t 1949 &  77\\\\\n",
       "\t 1950 &  98\\\\\n",
       "\t 1951 & 107\\\\\n",
       "\t 1952 & 105\\\\\n",
       "\t 1953 & 104\\\\\n",
       "\t 1954 & 105\\\\\n",
       "\t 1955 & 117\\\\\n",
       "\t 1956 & 137\\\\\n",
       "\t 1957 & 122\\\\\n",
       "\t 1958 & 135\\\\\n",
       "\t 1959 & 143\\\\\n",
       "\t 1960 & 155\\\\\n",
       "\t ⋮ & ⋮\\\\\n",
       "\t 1993 & 250\\\\\n",
       "\t 1994 & 229\\\\\n",
       "\t 1995 & 214\\\\\n",
       "\t 1996 & 196\\\\\n",
       "\t 1997 & 176\\\\\n",
       "\t 1998 & 164\\\\\n",
       "\t 1999 & 138\\\\\n",
       "\t 2000 & 155\\\\\n",
       "\t 2001 & 129\\\\\n",
       "\t 2002 &  96\\\\\n",
       "\t 2003 &  89\\\\\n",
       "\t 2004 &  95\\\\\n",
       "\t 2005 &  75\\\\\n",
       "\t 2006 &  63\\\\\n",
       "\t 2007 &  48\\\\\n",
       "\t 2008 &  41\\\\\n",
       "\t 2009 &  50\\\\\n",
       "\t 2010 &  42\\\\\n",
       "\t 2011 &  36\\\\\n",
       "\t 2012 &  42\\\\\n",
       "\t 2013 &  42\\\\\n",
       "\t 2014 &  36\\\\\n",
       "\t 2015 &  32\\\\\n",
       "\t 2016 &  27\\\\\n",
       "\t 2017 &  32\\\\\n",
       "\t 2018 &  39\\\\\n",
       "\t 2019 &  40\\\\\n",
       "\t 2020 &  17\\\\\n",
       "\t AAAA & 125\\\\\n",
       "\t YYYY & 100\\\\\n",
       "\\end{tabular}\n"
      ],
      "text/markdown": [
       "\n",
       "A data.frame: 92 × 2\n",
       "\n",
       "| birth_year &lt;chr&gt; | n &lt;int&gt; |\n",
       "|---|---|\n",
       "| 1931 |  18 |\n",
       "| 1932 |  22 |\n",
       "| 1933 |  32 |\n",
       "| 1934 |  33 |\n",
       "| 1935 |  37 |\n",
       "| 1936 |  38 |\n",
       "| 1937 |  38 |\n",
       "| 1938 |  44 |\n",
       "| 1939 |  51 |\n",
       "| 1940 |  56 |\n",
       "| 1941 |  51 |\n",
       "| 1942 |  62 |\n",
       "| 1943 |  59 |\n",
       "| 1944 |  69 |\n",
       "| 1945 |  64 |\n",
       "| 1946 |  64 |\n",
       "| 1947 |  75 |\n",
       "| 1948 | 107 |\n",
       "| 1949 |  77 |\n",
       "| 1950 |  98 |\n",
       "| 1951 | 107 |\n",
       "| 1952 | 105 |\n",
       "| 1953 | 104 |\n",
       "| 1954 | 105 |\n",
       "| 1955 | 117 |\n",
       "| 1956 | 137 |\n",
       "| 1957 | 122 |\n",
       "| 1958 | 135 |\n",
       "| 1959 | 143 |\n",
       "| 1960 | 155 |\n",
       "| ⋮ | ⋮ |\n",
       "| 1993 | 250 |\n",
       "| 1994 | 229 |\n",
       "| 1995 | 214 |\n",
       "| 1996 | 196 |\n",
       "| 1997 | 176 |\n",
       "| 1998 | 164 |\n",
       "| 1999 | 138 |\n",
       "| 2000 | 155 |\n",
       "| 2001 | 129 |\n",
       "| 2002 |  96 |\n",
       "| 2003 |  89 |\n",
       "| 2004 |  95 |\n",
       "| 2005 |  75 |\n",
       "| 2006 |  63 |\n",
       "| 2007 |  48 |\n",
       "| 2008 |  41 |\n",
       "| 2009 |  50 |\n",
       "| 2010 |  42 |\n",
       "| 2011 |  36 |\n",
       "| 2012 |  42 |\n",
       "| 2013 |  42 |\n",
       "| 2014 |  36 |\n",
       "| 2015 |  32 |\n",
       "| 2016 |  27 |\n",
       "| 2017 |  32 |\n",
       "| 2018 |  39 |\n",
       "| 2019 |  40 |\n",
       "| 2020 |  17 |\n",
       "| AAAA | 125 |\n",
       "| YYYY | 100 |\n",
       "\n"
      ],
      "text/plain": [
       "   birth_year n  \n",
       "1  1931        18\n",
       "2  1932        22\n",
       "3  1933        32\n",
       "4  1934        33\n",
       "5  1935        37\n",
       "6  1936        38\n",
       "7  1937        38\n",
       "8  1938        44\n",
       "9  1939        51\n",
       "10 1940        56\n",
       "11 1941        51\n",
       "12 1942        62\n",
       "13 1943        59\n",
       "14 1944        69\n",
       "15 1945        64\n",
       "16 1946        64\n",
       "17 1947        75\n",
       "18 1948       107\n",
       "19 1949        77\n",
       "20 1950        98\n",
       "21 1951       107\n",
       "22 1952       105\n",
       "23 1953       104\n",
       "24 1954       105\n",
       "25 1955       117\n",
       "26 1956       137\n",
       "27 1957       122\n",
       "28 1958       135\n",
       "29 1959       143\n",
       "30 1960       155\n",
       "⋮  ⋮          ⋮  \n",
       "63 1993       250\n",
       "64 1994       229\n",
       "65 1995       214\n",
       "66 1996       196\n",
       "67 1997       176\n",
       "68 1998       164\n",
       "69 1999       138\n",
       "70 2000       155\n",
       "71 2001       129\n",
       "72 2002        96\n",
       "73 2003        89\n",
       "74 2004        95\n",
       "75 2005        75\n",
       "76 2006        63\n",
       "77 2007        48\n",
       "78 2008        41\n",
       "79 2009        50\n",
       "80 2010        42\n",
       "81 2011        36\n",
       "82 2012        42\n",
       "83 2013        42\n",
       "84 2014        36\n",
       "85 2015        32\n",
       "86 2016        27\n",
       "87 2017        32\n",
       "88 2018        39\n",
       "89 2019        40\n",
       "90 2020        17\n",
       "91 AAAA       125\n",
       "92 YYYY       100"
      ]
     },
     "metadata": {},
     "output_type": "display_data"
    },
    {
     "data": {
      "text/html": [
       "<table>\n",
       "<caption>A data.frame: 92 × 2</caption>\n",
       "<thead>\n",
       "\t<tr><th scope=col>birth_year</th><th scope=col>n</th></tr>\n",
       "\t<tr><th scope=col>&lt;chr&gt;</th><th scope=col>&lt;int&gt;</th></tr>\n",
       "</thead>\n",
       "<tbody>\n",
       "\t<tr><td>1930</td><td>125</td></tr>\n",
       "\t<tr><td>1931</td><td> 18</td></tr>\n",
       "\t<tr><td>1932</td><td> 22</td></tr>\n",
       "\t<tr><td>1933</td><td> 32</td></tr>\n",
       "\t<tr><td>1934</td><td> 33</td></tr>\n",
       "\t<tr><td>1935</td><td> 37</td></tr>\n",
       "\t<tr><td>1936</td><td> 38</td></tr>\n",
       "\t<tr><td>1937</td><td> 38</td></tr>\n",
       "\t<tr><td>1938</td><td> 44</td></tr>\n",
       "\t<tr><td>1939</td><td> 51</td></tr>\n",
       "\t<tr><td>1940</td><td> 56</td></tr>\n",
       "\t<tr><td>1941</td><td> 51</td></tr>\n",
       "\t<tr><td>1942</td><td> 62</td></tr>\n",
       "\t<tr><td>1943</td><td> 59</td></tr>\n",
       "\t<tr><td>1944</td><td> 69</td></tr>\n",
       "\t<tr><td>1945</td><td> 64</td></tr>\n",
       "\t<tr><td>1946</td><td> 64</td></tr>\n",
       "\t<tr><td>1947</td><td> 75</td></tr>\n",
       "\t<tr><td>1948</td><td>107</td></tr>\n",
       "\t<tr><td>1949</td><td> 77</td></tr>\n",
       "\t<tr><td>1950</td><td> 98</td></tr>\n",
       "\t<tr><td>1951</td><td>107</td></tr>\n",
       "\t<tr><td>1952</td><td>105</td></tr>\n",
       "\t<tr><td>1953</td><td>104</td></tr>\n",
       "\t<tr><td>1954</td><td>105</td></tr>\n",
       "\t<tr><td>1955</td><td>117</td></tr>\n",
       "\t<tr><td>1956</td><td>137</td></tr>\n",
       "\t<tr><td>1957</td><td>122</td></tr>\n",
       "\t<tr><td>1958</td><td>135</td></tr>\n",
       "\t<tr><td>1959</td><td>143</td></tr>\n",
       "\t<tr><td>⋮</td><td>⋮</td></tr>\n",
       "\t<tr><td>1992</td><td>259</td></tr>\n",
       "\t<tr><td>1993</td><td>250</td></tr>\n",
       "\t<tr><td>1994</td><td>229</td></tr>\n",
       "\t<tr><td>1995</td><td>214</td></tr>\n",
       "\t<tr><td>1996</td><td>196</td></tr>\n",
       "\t<tr><td>1997</td><td>176</td></tr>\n",
       "\t<tr><td>1998</td><td>164</td></tr>\n",
       "\t<tr><td>1999</td><td>138</td></tr>\n",
       "\t<tr><td>2000</td><td>155</td></tr>\n",
       "\t<tr><td>2001</td><td>129</td></tr>\n",
       "\t<tr><td>2002</td><td> 96</td></tr>\n",
       "\t<tr><td>2003</td><td> 89</td></tr>\n",
       "\t<tr><td>2004</td><td> 95</td></tr>\n",
       "\t<tr><td>2005</td><td> 75</td></tr>\n",
       "\t<tr><td>2006</td><td> 63</td></tr>\n",
       "\t<tr><td>2007</td><td> 48</td></tr>\n",
       "\t<tr><td>2008</td><td> 41</td></tr>\n",
       "\t<tr><td>2009</td><td> 50</td></tr>\n",
       "\t<tr><td>2010</td><td> 42</td></tr>\n",
       "\t<tr><td>2011</td><td> 36</td></tr>\n",
       "\t<tr><td>2012</td><td> 42</td></tr>\n",
       "\t<tr><td>2013</td><td> 42</td></tr>\n",
       "\t<tr><td>2014</td><td> 36</td></tr>\n",
       "\t<tr><td>2015</td><td> 32</td></tr>\n",
       "\t<tr><td>2016</td><td> 27</td></tr>\n",
       "\t<tr><td>2017</td><td> 32</td></tr>\n",
       "\t<tr><td>2018</td><td> 39</td></tr>\n",
       "\t<tr><td>2019</td><td> 40</td></tr>\n",
       "\t<tr><td>2020</td><td> 17</td></tr>\n",
       "\t<tr><td>YYYY</td><td>100</td></tr>\n",
       "</tbody>\n",
       "</table>\n"
      ],
      "text/latex": [
       "A data.frame: 92 × 2\n",
       "\\begin{tabular}{ll}\n",
       " birth\\_year & n\\\\\n",
       " <chr> & <int>\\\\\n",
       "\\hline\n",
       "\t 1930 & 125\\\\\n",
       "\t 1931 &  18\\\\\n",
       "\t 1932 &  22\\\\\n",
       "\t 1933 &  32\\\\\n",
       "\t 1934 &  33\\\\\n",
       "\t 1935 &  37\\\\\n",
       "\t 1936 &  38\\\\\n",
       "\t 1937 &  38\\\\\n",
       "\t 1938 &  44\\\\\n",
       "\t 1939 &  51\\\\\n",
       "\t 1940 &  56\\\\\n",
       "\t 1941 &  51\\\\\n",
       "\t 1942 &  62\\\\\n",
       "\t 1943 &  59\\\\\n",
       "\t 1944 &  69\\\\\n",
       "\t 1945 &  64\\\\\n",
       "\t 1946 &  64\\\\\n",
       "\t 1947 &  75\\\\\n",
       "\t 1948 & 107\\\\\n",
       "\t 1949 &  77\\\\\n",
       "\t 1950 &  98\\\\\n",
       "\t 1951 & 107\\\\\n",
       "\t 1952 & 105\\\\\n",
       "\t 1953 & 104\\\\\n",
       "\t 1954 & 105\\\\\n",
       "\t 1955 & 117\\\\\n",
       "\t 1956 & 137\\\\\n",
       "\t 1957 & 122\\\\\n",
       "\t 1958 & 135\\\\\n",
       "\t 1959 & 143\\\\\n",
       "\t ⋮ & ⋮\\\\\n",
       "\t 1992 & 259\\\\\n",
       "\t 1993 & 250\\\\\n",
       "\t 1994 & 229\\\\\n",
       "\t 1995 & 214\\\\\n",
       "\t 1996 & 196\\\\\n",
       "\t 1997 & 176\\\\\n",
       "\t 1998 & 164\\\\\n",
       "\t 1999 & 138\\\\\n",
       "\t 2000 & 155\\\\\n",
       "\t 2001 & 129\\\\\n",
       "\t 2002 &  96\\\\\n",
       "\t 2003 &  89\\\\\n",
       "\t 2004 &  95\\\\\n",
       "\t 2005 &  75\\\\\n",
       "\t 2006 &  63\\\\\n",
       "\t 2007 &  48\\\\\n",
       "\t 2008 &  41\\\\\n",
       "\t 2009 &  50\\\\\n",
       "\t 2010 &  42\\\\\n",
       "\t 2011 &  36\\\\\n",
       "\t 2012 &  42\\\\\n",
       "\t 2013 &  42\\\\\n",
       "\t 2014 &  36\\\\\n",
       "\t 2015 &  32\\\\\n",
       "\t 2016 &  27\\\\\n",
       "\t 2017 &  32\\\\\n",
       "\t 2018 &  39\\\\\n",
       "\t 2019 &  40\\\\\n",
       "\t 2020 &  17\\\\\n",
       "\t YYYY & 100\\\\\n",
       "\\end{tabular}\n"
      ],
      "text/markdown": [
       "\n",
       "A data.frame: 92 × 2\n",
       "\n",
       "| birth_year &lt;chr&gt; | n &lt;int&gt; |\n",
       "|---|---|\n",
       "| 1930 | 125 |\n",
       "| 1931 |  18 |\n",
       "| 1932 |  22 |\n",
       "| 1933 |  32 |\n",
       "| 1934 |  33 |\n",
       "| 1935 |  37 |\n",
       "| 1936 |  38 |\n",
       "| 1937 |  38 |\n",
       "| 1938 |  44 |\n",
       "| 1939 |  51 |\n",
       "| 1940 |  56 |\n",
       "| 1941 |  51 |\n",
       "| 1942 |  62 |\n",
       "| 1943 |  59 |\n",
       "| 1944 |  69 |\n",
       "| 1945 |  64 |\n",
       "| 1946 |  64 |\n",
       "| 1947 |  75 |\n",
       "| 1948 | 107 |\n",
       "| 1949 |  77 |\n",
       "| 1950 |  98 |\n",
       "| 1951 | 107 |\n",
       "| 1952 | 105 |\n",
       "| 1953 | 104 |\n",
       "| 1954 | 105 |\n",
       "| 1955 | 117 |\n",
       "| 1956 | 137 |\n",
       "| 1957 | 122 |\n",
       "| 1958 | 135 |\n",
       "| 1959 | 143 |\n",
       "| ⋮ | ⋮ |\n",
       "| 1992 | 259 |\n",
       "| 1993 | 250 |\n",
       "| 1994 | 229 |\n",
       "| 1995 | 214 |\n",
       "| 1996 | 196 |\n",
       "| 1997 | 176 |\n",
       "| 1998 | 164 |\n",
       "| 1999 | 138 |\n",
       "| 2000 | 155 |\n",
       "| 2001 | 129 |\n",
       "| 2002 |  96 |\n",
       "| 2003 |  89 |\n",
       "| 2004 |  95 |\n",
       "| 2005 |  75 |\n",
       "| 2006 |  63 |\n",
       "| 2007 |  48 |\n",
       "| 2008 |  41 |\n",
       "| 2009 |  50 |\n",
       "| 2010 |  42 |\n",
       "| 2011 |  36 |\n",
       "| 2012 |  42 |\n",
       "| 2013 |  42 |\n",
       "| 2014 |  36 |\n",
       "| 2015 |  32 |\n",
       "| 2016 |  27 |\n",
       "| 2017 |  32 |\n",
       "| 2018 |  39 |\n",
       "| 2019 |  40 |\n",
       "| 2020 |  17 |\n",
       "| YYYY | 100 |\n",
       "\n"
      ],
      "text/plain": [
       "   birth_year n  \n",
       "1  1930       125\n",
       "2  1931        18\n",
       "3  1932        22\n",
       "4  1933        32\n",
       "5  1934        33\n",
       "6  1935        37\n",
       "7  1936        38\n",
       "8  1937        38\n",
       "9  1938        44\n",
       "10 1939        51\n",
       "11 1940        56\n",
       "12 1941        51\n",
       "13 1942        62\n",
       "14 1943        59\n",
       "15 1944        69\n",
       "16 1945        64\n",
       "17 1946        64\n",
       "18 1947        75\n",
       "19 1948       107\n",
       "20 1949        77\n",
       "21 1950        98\n",
       "22 1951       107\n",
       "23 1952       105\n",
       "24 1953       104\n",
       "25 1954       105\n",
       "26 1955       117\n",
       "27 1956       137\n",
       "28 1957       122\n",
       "29 1958       135\n",
       "30 1959       143\n",
       "⋮  ⋮          ⋮  \n",
       "63 1992       259\n",
       "64 1993       250\n",
       "65 1994       229\n",
       "66 1995       214\n",
       "67 1996       196\n",
       "68 1997       176\n",
       "69 1998       164\n",
       "70 1999       138\n",
       "71 2000       155\n",
       "72 2001       129\n",
       "73 2002        96\n",
       "74 2003        89\n",
       "75 2004        95\n",
       "76 2005        75\n",
       "77 2006        63\n",
       "78 2007        48\n",
       "79 2008        41\n",
       "80 2009        50\n",
       "81 2010        42\n",
       "82 2011        36\n",
       "83 2012        42\n",
       "84 2013        42\n",
       "85 2014        36\n",
       "86 2015        32\n",
       "87 2016        27\n",
       "88 2017        32\n",
       "89 2018        39\n",
       "90 2019        40\n",
       "91 2020        17\n",
       "92 YYYY       100"
      ]
     },
     "metadata": {},
     "output_type": "display_data"
    }
   ],
   "source": [
    "#check the birth_year\n",
    "patients %>% count(birth_year)\n",
    "\n",
    "#when birth year == AAAA the year of birth is equal to or before 1930 \n",
    "#information given by institution that provided the data\n",
    "patients$birth_year[patients$birth_year == 'AAAA'] <- '1930'\n",
    "\n",
    "#check the transformation\n",
    "patients %>% count(birth_year)"
   ]
  },
  {
   "cell_type": "code",
   "execution_count": 11,
   "metadata": {
    "id": "b-cQF623HQh-"
   },
   "outputs": [
    {
     "data": {
      "text/html": [
       "<style>\n",
       ".list-inline {list-style: none; margin:0; padding: 0}\n",
       ".list-inline>li {display: inline-block}\n",
       ".list-inline>li:not(:last-child)::after {content: \"\\00b7\"; padding: 0 .5ex}\n",
       "</style>\n",
       "<ol class=list-inline><li>89937</li><li>8</li></ol>\n"
      ],
      "text/latex": [
       "\\begin{enumerate*}\n",
       "\\item 89937\n",
       "\\item 8\n",
       "\\end{enumerate*}\n"
      ],
      "text/markdown": [
       "1. 89937\n",
       "2. 8\n",
       "\n",
       "\n"
      ],
      "text/plain": [
       "[1] 89937     8"
      ]
     },
     "metadata": {},
     "output_type": "display_data"
    }
   ],
   "source": [
    "#transform the colums outcome_date, attendance_date and test_date to date format\n",
    "outcomes$outcome_date <- as.Date(outcomes$outcome_date, format=\"%d/%m/%Y\")\n",
    "outcomes$attendance_date<- as.Date(outcomes$attendance_date, format=\"%d/%m/%Y\")\n",
    "tests$test_date <- as.Date(tests$test_date, format=\"%d/%m/%Y\")\n",
    "\n",
    "#dimensions\n",
    "outcomes %>% dim\n",
    "\n",
    "#create a new column with the number of days between the first attendance and the outcome \n",
    "outcomes %>% mutate(outcome_days = (difftime(outcomes$outcome_date, outcomes$attendance_date, unit = \"days\"))) -> outcomes\n",
    "outcomes$outcome_days <- as.integer(outcomes$outcome_days)\n"
   ]
  },
  {
   "cell_type": "code",
   "execution_count": null,
   "metadata": {},
   "outputs": [],
   "source": [
    "#check attendance_date\n",
    "outcomes %>% count(attendance_date)"
   ]
  },
  {
   "cell_type": "code",
   "execution_count": 12,
   "metadata": {
    "colab": {
     "base_uri": "https://localhost:8080/",
     "height": 123
    },
    "id": "y3w8JWz40tKw",
    "outputId": "76ffad17-274d-434b-e80c-b6c268c3202f"
   },
   "outputs": [
    {
     "name": "stderr",
     "output_type": "stream",
     "text": [
      "Joining, by = \"id\"\n",
      "\n",
      "Joining, by = c(\"id\", \"id_attendance\")\n",
      "\n"
     ]
    },
    {
     "data": {
      "text/html": [
       "<style>\n",
       ".list-inline {list-style: none; margin:0; padding: 0}\n",
       ".list-inline>li {display: inline-block}\n",
       ".list-inline>li:not(:last-child)::after {content: \"\\00b7\"; padding: 0 .5ex}\n",
       "</style>\n",
       "<ol class=list-inline><li>14673</li><li>1</li></ol>\n"
      ],
      "text/latex": [
       "\\begin{enumerate*}\n",
       "\\item 14673\n",
       "\\item 1\n",
       "\\end{enumerate*}\n"
      ],
      "text/markdown": [
       "1. 14673\n",
       "2. 1\n",
       "\n",
       "\n"
      ],
      "text/plain": [
       "[1] 14673     1"
      ]
     },
     "metadata": {},
     "output_type": "display_data"
    },
    {
     "data": {
      "text/html": [
       "<style>\n",
       ".list-inline {list-style: none; margin:0; padding: 0}\n",
       ".list-inline>li {display: inline-block}\n",
       ".list-inline>li:not(:last-child)::after {content: \"\\00b7\"; padding: 0 .5ex}\n",
       "</style>\n",
       "<ol class=list-inline><li>37364</li><li>1</li></ol>\n"
      ],
      "text/latex": [
       "\\begin{enumerate*}\n",
       "\\item 37364\n",
       "\\item 1\n",
       "\\end{enumerate*}\n"
      ],
      "text/markdown": [
       "1. 37364\n",
       "2. 1\n",
       "\n",
       "\n"
      ],
      "text/plain": [
       "[1] 37364     1"
      ]
     },
     "metadata": {},
     "output_type": "display_data"
    },
    {
     "data": {
      "text/html": [
       "<style>\n",
       ".list-inline {list-style: none; margin:0; padding: 0}\n",
       ".list-inline>li {display: inline-block}\n",
       ".list-inline>li:not(:last-child)::after {content: \"\\00b7\"; padding: 0 .5ex}\n",
       "</style>\n",
       "<ol class=list-inline><li>2891301</li><li>24</li></ol>\n"
      ],
      "text/latex": [
       "\\begin{enumerate*}\n",
       "\\item 2891301\n",
       "\\item 24\n",
       "\\end{enumerate*}\n"
      ],
      "text/markdown": [
       "1. 2891301\n",
       "2. 24\n",
       "\n",
       "\n"
      ],
      "text/plain": [
       "[1] 2891301      24"
      ]
     },
     "metadata": {},
     "output_type": "display_data"
    }
   ],
   "source": [
    "#join patients, tests and outcomes\n",
    "tests %>% left_join(patients) -> tests\n",
    "tests %>% left_join(outcomes) -> tests\n",
    "\n",
    "#check how many patients (ids) are present \n",
    "tests %>% select(id) %>% unique %>% dim\n",
    "tests %>% select(id_attendance) %>% unique %>% dim\n",
    "\n",
    "#create a new column with the number of days between the first attendance and the test\n",
    "tests %>% mutate(test_days = (difftime(tests$test_date, tests$attendance_date,  unit = \"days\"))) -> tests\n",
    "tests$test_days <- as.integer(tests$test_days)\n",
    "\n",
    "#dimensions\n",
    "tests %>% dim"
   ]
  },
  {
   "cell_type": "code",
   "execution_count": null,
   "metadata": {},
   "outputs": [],
   "source": [
    "tests %>% write_csv('hsl_integrated.csv')"
   ]
  }
 ],
 "metadata": {
  "colab": {
   "collapsed_sections": [],
   "name": "Integração dados - BP",
   "provenance": []
  },
  "kernelspec": {
   "display_name": "R",
   "language": "R",
   "name": "ir"
  },
  "language_info": {
   "codemirror_mode": "r",
   "file_extension": ".r",
   "mimetype": "text/x-r-source",
   "name": "R",
   "pygments_lexer": "r",
   "version": "3.6.3"
  }
 },
 "nbformat": 4,
 "nbformat_minor": 4
}
